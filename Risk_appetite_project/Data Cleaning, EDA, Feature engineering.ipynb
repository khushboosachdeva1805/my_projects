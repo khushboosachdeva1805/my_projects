{
 "cells": [
  {
   "cell_type": "code",
   "execution_count": 3,
   "id": "cdca9151",
   "metadata": {},
   "outputs": [],
   "source": [
    "import numpy as np\n",
    "import pandas as pd\n",
    "import matplotlib.pyplot as plt\n",
    "import seaborn as sns\n",
    "import warnings\n",
    "warnings.filterwarnings('ignore')\n",
    "#from sklearn import datasets"
   ]
  },
  {
   "cell_type": "code",
   "execution_count": 6,
   "id": "a949a226",
   "metadata": {},
   "outputs": [],
   "source": [
    "df = pd.read_excel('SCFP2009panel.xlsx')"
   ]
  },
  {
   "cell_type": "code",
   "execution_count": 7,
   "id": "eed9ce29",
   "metadata": {},
   "outputs": [
    {
     "data": {
      "text/html": [
       "<div>\n",
       "<style scoped>\n",
       "    .dataframe tbody tr th:only-of-type {\n",
       "        vertical-align: middle;\n",
       "    }\n",
       "\n",
       "    .dataframe tbody tr th {\n",
       "        vertical-align: top;\n",
       "    }\n",
       "\n",
       "    .dataframe thead th {\n",
       "        text-align: right;\n",
       "    }\n",
       "</style>\n",
       "<table border=\"1\" class=\"dataframe\">\n",
       "  <thead>\n",
       "    <tr style=\"text-align: right;\">\n",
       "      <th></th>\n",
       "      <th>Age</th>\n",
       "      <th>Income</th>\n",
       "      <th>Expenses</th>\n",
       "      <th>Investment</th>\n",
       "      <th>Risk_Appetite</th>\n",
       "    </tr>\n",
       "  </thead>\n",
       "  <tbody>\n",
       "    <tr>\n",
       "      <th>0</th>\n",
       "      <td>52</td>\n",
       "      <td>9360000</td>\n",
       "      <td>3276000</td>\n",
       "      <td>160000000.0</td>\n",
       "      <td>4</td>\n",
       "    </tr>\n",
       "    <tr>\n",
       "      <th>1</th>\n",
       "      <td>34</td>\n",
       "      <td>280896000</td>\n",
       "      <td>563808000</td>\n",
       "      <td>31086000.0</td>\n",
       "      <td>3</td>\n",
       "    </tr>\n",
       "    <tr>\n",
       "      <th>2</th>\n",
       "      <td>63</td>\n",
       "      <td>18792000</td>\n",
       "      <td>5901500</td>\n",
       "      <td>204300000.0</td>\n",
       "      <td>4</td>\n",
       "    </tr>\n",
       "    <tr>\n",
       "      <th>3</th>\n",
       "      <td>40</td>\n",
       "      <td>199760000</td>\n",
       "      <td>3832000</td>\n",
       "      <td>198000000.0</td>\n",
       "      <td>3</td>\n",
       "    </tr>\n",
       "    <tr>\n",
       "      <th>4</th>\n",
       "      <td>39</td>\n",
       "      <td>380000</td>\n",
       "      <td>115500</td>\n",
       "      <td>0.0</td>\n",
       "      <td>4</td>\n",
       "    </tr>\n",
       "    <tr>\n",
       "      <th>...</th>\n",
       "      <td>...</td>\n",
       "      <td>...</td>\n",
       "      <td>...</td>\n",
       "      <td>...</td>\n",
       "      <td>...</td>\n",
       "    </tr>\n",
       "    <tr>\n",
       "      <th>397</th>\n",
       "      <td>26</td>\n",
       "      <td>1495000</td>\n",
       "      <td>644000</td>\n",
       "      <td>0.0</td>\n",
       "      <td>3</td>\n",
       "    </tr>\n",
       "    <tr>\n",
       "      <th>398</th>\n",
       "      <td>28</td>\n",
       "      <td>920000</td>\n",
       "      <td>374284</td>\n",
       "      <td>704000.0</td>\n",
       "      <td>4</td>\n",
       "    </tr>\n",
       "    <tr>\n",
       "      <th>399</th>\n",
       "      <td>27</td>\n",
       "      <td>115600000</td>\n",
       "      <td>49470000</td>\n",
       "      <td>26400000.0</td>\n",
       "      <td>3</td>\n",
       "    </tr>\n",
       "    <tr>\n",
       "      <th>400</th>\n",
       "      <td>24</td>\n",
       "      <td>240000</td>\n",
       "      <td>52000</td>\n",
       "      <td>120000.0</td>\n",
       "      <td>5</td>\n",
       "    </tr>\n",
       "    <tr>\n",
       "      <th>401</th>\n",
       "      <td>32</td>\n",
       "      <td>114774000</td>\n",
       "      <td>55308000</td>\n",
       "      <td>42000000.0</td>\n",
       "      <td>4</td>\n",
       "    </tr>\n",
       "  </tbody>\n",
       "</table>\n",
       "<p>402 rows × 5 columns</p>\n",
       "</div>"
      ],
      "text/plain": [
       "     Age     Income   Expenses   Investment  Risk_Appetite\n",
       "0     52    9360000    3276000  160000000.0              4\n",
       "1     34  280896000  563808000   31086000.0              3\n",
       "2     63   18792000    5901500  204300000.0              4\n",
       "3     40  199760000    3832000  198000000.0              3\n",
       "4     39     380000     115500          0.0              4\n",
       "..   ...        ...        ...          ...            ...\n",
       "397   26    1495000     644000          0.0              3\n",
       "398   28     920000     374284     704000.0              4\n",
       "399   27  115600000   49470000   26400000.0              3\n",
       "400   24     240000      52000     120000.0              5\n",
       "401   32  114774000   55308000   42000000.0              4\n",
       "\n",
       "[402 rows x 5 columns]"
      ]
     },
     "execution_count": 7,
     "metadata": {},
     "output_type": "execute_result"
    }
   ],
   "source": [
    "df"
   ]
  },
  {
   "cell_type": "markdown",
   "id": "5b562690",
   "metadata": {},
   "source": [
    "### Adding a column Savings by subtracting expenses from income"
   ]
  },
  {
   "cell_type": "code",
   "execution_count": 9,
   "id": "18b4afc3",
   "metadata": {},
   "outputs": [],
   "source": [
    "df['Savings'] = df['Income']-df['Expenses']"
   ]
  },
  {
   "cell_type": "code",
   "execution_count": 10,
   "id": "f261d632",
   "metadata": {},
   "outputs": [
    {
     "data": {
      "text/html": [
       "<div>\n",
       "<style scoped>\n",
       "    .dataframe tbody tr th:only-of-type {\n",
       "        vertical-align: middle;\n",
       "    }\n",
       "\n",
       "    .dataframe tbody tr th {\n",
       "        vertical-align: top;\n",
       "    }\n",
       "\n",
       "    .dataframe thead th {\n",
       "        text-align: right;\n",
       "    }\n",
       "</style>\n",
       "<table border=\"1\" class=\"dataframe\">\n",
       "  <thead>\n",
       "    <tr style=\"text-align: right;\">\n",
       "      <th></th>\n",
       "      <th>Age</th>\n",
       "      <th>Income</th>\n",
       "      <th>Expenses</th>\n",
       "      <th>Investment</th>\n",
       "      <th>Risk_Appetite</th>\n",
       "      <th>Savings</th>\n",
       "    </tr>\n",
       "  </thead>\n",
       "  <tbody>\n",
       "    <tr>\n",
       "      <th>0</th>\n",
       "      <td>52</td>\n",
       "      <td>9360000</td>\n",
       "      <td>3276000</td>\n",
       "      <td>160000000.0</td>\n",
       "      <td>4</td>\n",
       "      <td>6084000</td>\n",
       "    </tr>\n",
       "    <tr>\n",
       "      <th>1</th>\n",
       "      <td>34</td>\n",
       "      <td>280896000</td>\n",
       "      <td>563808000</td>\n",
       "      <td>31086000.0</td>\n",
       "      <td>3</td>\n",
       "      <td>-282912000</td>\n",
       "    </tr>\n",
       "    <tr>\n",
       "      <th>2</th>\n",
       "      <td>63</td>\n",
       "      <td>18792000</td>\n",
       "      <td>5901500</td>\n",
       "      <td>204300000.0</td>\n",
       "      <td>4</td>\n",
       "      <td>12890500</td>\n",
       "    </tr>\n",
       "    <tr>\n",
       "      <th>3</th>\n",
       "      <td>40</td>\n",
       "      <td>199760000</td>\n",
       "      <td>3832000</td>\n",
       "      <td>198000000.0</td>\n",
       "      <td>3</td>\n",
       "      <td>195928000</td>\n",
       "    </tr>\n",
       "    <tr>\n",
       "      <th>4</th>\n",
       "      <td>39</td>\n",
       "      <td>380000</td>\n",
       "      <td>115500</td>\n",
       "      <td>0.0</td>\n",
       "      <td>4</td>\n",
       "      <td>264500</td>\n",
       "    </tr>\n",
       "    <tr>\n",
       "      <th>...</th>\n",
       "      <td>...</td>\n",
       "      <td>...</td>\n",
       "      <td>...</td>\n",
       "      <td>...</td>\n",
       "      <td>...</td>\n",
       "      <td>...</td>\n",
       "    </tr>\n",
       "    <tr>\n",
       "      <th>397</th>\n",
       "      <td>26</td>\n",
       "      <td>1495000</td>\n",
       "      <td>644000</td>\n",
       "      <td>0.0</td>\n",
       "      <td>3</td>\n",
       "      <td>851000</td>\n",
       "    </tr>\n",
       "    <tr>\n",
       "      <th>398</th>\n",
       "      <td>28</td>\n",
       "      <td>920000</td>\n",
       "      <td>374284</td>\n",
       "      <td>704000.0</td>\n",
       "      <td>4</td>\n",
       "      <td>545716</td>\n",
       "    </tr>\n",
       "    <tr>\n",
       "      <th>399</th>\n",
       "      <td>27</td>\n",
       "      <td>115600000</td>\n",
       "      <td>49470000</td>\n",
       "      <td>26400000.0</td>\n",
       "      <td>3</td>\n",
       "      <td>66130000</td>\n",
       "    </tr>\n",
       "    <tr>\n",
       "      <th>400</th>\n",
       "      <td>24</td>\n",
       "      <td>240000</td>\n",
       "      <td>52000</td>\n",
       "      <td>120000.0</td>\n",
       "      <td>5</td>\n",
       "      <td>188000</td>\n",
       "    </tr>\n",
       "    <tr>\n",
       "      <th>401</th>\n",
       "      <td>32</td>\n",
       "      <td>114774000</td>\n",
       "      <td>55308000</td>\n",
       "      <td>42000000.0</td>\n",
       "      <td>4</td>\n",
       "      <td>59466000</td>\n",
       "    </tr>\n",
       "  </tbody>\n",
       "</table>\n",
       "<p>402 rows × 6 columns</p>\n",
       "</div>"
      ],
      "text/plain": [
       "     Age     Income   Expenses   Investment  Risk_Appetite    Savings\n",
       "0     52    9360000    3276000  160000000.0              4    6084000\n",
       "1     34  280896000  563808000   31086000.0              3 -282912000\n",
       "2     63   18792000    5901500  204300000.0              4   12890500\n",
       "3     40  199760000    3832000  198000000.0              3  195928000\n",
       "4     39     380000     115500          0.0              4     264500\n",
       "..   ...        ...        ...          ...            ...        ...\n",
       "397   26    1495000     644000          0.0              3     851000\n",
       "398   28     920000     374284     704000.0              4     545716\n",
       "399   27  115600000   49470000   26400000.0              3   66130000\n",
       "400   24     240000      52000     120000.0              5     188000\n",
       "401   32  114774000   55308000   42000000.0              4   59466000\n",
       "\n",
       "[402 rows x 6 columns]"
      ]
     },
     "execution_count": 10,
     "metadata": {},
     "output_type": "execute_result"
    }
   ],
   "source": [
    "df"
   ]
  },
  {
   "cell_type": "code",
   "execution_count": null,
   "id": "44699282",
   "metadata": {},
   "outputs": [],
   "source": []
  },
  {
   "cell_type": "markdown",
   "id": "fba720eb",
   "metadata": {},
   "source": [
    "### Moving 'riskcategory' column to last"
   ]
  },
  {
   "cell_type": "code",
   "execution_count": 12,
   "id": "217164ae",
   "metadata": {},
   "outputs": [],
   "source": [
    "data = list(df.columns)\n",
    "data.remove('Risk_Appetite')\n",
    "data.append('Risk_Appetite')"
   ]
  },
  {
   "cell_type": "code",
   "execution_count": 13,
   "id": "04998904",
   "metadata": {},
   "outputs": [
    {
     "data": {
      "text/plain": [
       "['Age', 'Income', 'Expenses', 'Investment', 'Savings', 'Risk_Appetite']"
      ]
     },
     "execution_count": 13,
     "metadata": {},
     "output_type": "execute_result"
    }
   ],
   "source": [
    "data"
   ]
  },
  {
   "cell_type": "code",
   "execution_count": 14,
   "id": "bef54354",
   "metadata": {},
   "outputs": [],
   "source": [
    "df = df[data]"
   ]
  },
  {
   "cell_type": "code",
   "execution_count": 15,
   "id": "5efe8190",
   "metadata": {},
   "outputs": [
    {
     "data": {
      "text/html": [
       "<div>\n",
       "<style scoped>\n",
       "    .dataframe tbody tr th:only-of-type {\n",
       "        vertical-align: middle;\n",
       "    }\n",
       "\n",
       "    .dataframe tbody tr th {\n",
       "        vertical-align: top;\n",
       "    }\n",
       "\n",
       "    .dataframe thead th {\n",
       "        text-align: right;\n",
       "    }\n",
       "</style>\n",
       "<table border=\"1\" class=\"dataframe\">\n",
       "  <thead>\n",
       "    <tr style=\"text-align: right;\">\n",
       "      <th></th>\n",
       "      <th>Age</th>\n",
       "      <th>Income</th>\n",
       "      <th>Expenses</th>\n",
       "      <th>Investment</th>\n",
       "      <th>Savings</th>\n",
       "      <th>Risk_Appetite</th>\n",
       "    </tr>\n",
       "  </thead>\n",
       "  <tbody>\n",
       "    <tr>\n",
       "      <th>0</th>\n",
       "      <td>52</td>\n",
       "      <td>9360000</td>\n",
       "      <td>3276000</td>\n",
       "      <td>160000000.0</td>\n",
       "      <td>6084000</td>\n",
       "      <td>4</td>\n",
       "    </tr>\n",
       "    <tr>\n",
       "      <th>1</th>\n",
       "      <td>34</td>\n",
       "      <td>280896000</td>\n",
       "      <td>563808000</td>\n",
       "      <td>31086000.0</td>\n",
       "      <td>-282912000</td>\n",
       "      <td>3</td>\n",
       "    </tr>\n",
       "    <tr>\n",
       "      <th>2</th>\n",
       "      <td>63</td>\n",
       "      <td>18792000</td>\n",
       "      <td>5901500</td>\n",
       "      <td>204300000.0</td>\n",
       "      <td>12890500</td>\n",
       "      <td>4</td>\n",
       "    </tr>\n",
       "    <tr>\n",
       "      <th>3</th>\n",
       "      <td>40</td>\n",
       "      <td>199760000</td>\n",
       "      <td>3832000</td>\n",
       "      <td>198000000.0</td>\n",
       "      <td>195928000</td>\n",
       "      <td>3</td>\n",
       "    </tr>\n",
       "    <tr>\n",
       "      <th>4</th>\n",
       "      <td>39</td>\n",
       "      <td>380000</td>\n",
       "      <td>115500</td>\n",
       "      <td>0.0</td>\n",
       "      <td>264500</td>\n",
       "      <td>4</td>\n",
       "    </tr>\n",
       "    <tr>\n",
       "      <th>...</th>\n",
       "      <td>...</td>\n",
       "      <td>...</td>\n",
       "      <td>...</td>\n",
       "      <td>...</td>\n",
       "      <td>...</td>\n",
       "      <td>...</td>\n",
       "    </tr>\n",
       "    <tr>\n",
       "      <th>397</th>\n",
       "      <td>26</td>\n",
       "      <td>1495000</td>\n",
       "      <td>644000</td>\n",
       "      <td>0.0</td>\n",
       "      <td>851000</td>\n",
       "      <td>3</td>\n",
       "    </tr>\n",
       "    <tr>\n",
       "      <th>398</th>\n",
       "      <td>28</td>\n",
       "      <td>920000</td>\n",
       "      <td>374284</td>\n",
       "      <td>704000.0</td>\n",
       "      <td>545716</td>\n",
       "      <td>4</td>\n",
       "    </tr>\n",
       "    <tr>\n",
       "      <th>399</th>\n",
       "      <td>27</td>\n",
       "      <td>115600000</td>\n",
       "      <td>49470000</td>\n",
       "      <td>26400000.0</td>\n",
       "      <td>66130000</td>\n",
       "      <td>3</td>\n",
       "    </tr>\n",
       "    <tr>\n",
       "      <th>400</th>\n",
       "      <td>24</td>\n",
       "      <td>240000</td>\n",
       "      <td>52000</td>\n",
       "      <td>120000.0</td>\n",
       "      <td>188000</td>\n",
       "      <td>5</td>\n",
       "    </tr>\n",
       "    <tr>\n",
       "      <th>401</th>\n",
       "      <td>32</td>\n",
       "      <td>114774000</td>\n",
       "      <td>55308000</td>\n",
       "      <td>42000000.0</td>\n",
       "      <td>59466000</td>\n",
       "      <td>4</td>\n",
       "    </tr>\n",
       "  </tbody>\n",
       "</table>\n",
       "<p>402 rows × 6 columns</p>\n",
       "</div>"
      ],
      "text/plain": [
       "     Age     Income   Expenses   Investment    Savings  Risk_Appetite\n",
       "0     52    9360000    3276000  160000000.0    6084000              4\n",
       "1     34  280896000  563808000   31086000.0 -282912000              3\n",
       "2     63   18792000    5901500  204300000.0   12890500              4\n",
       "3     40  199760000    3832000  198000000.0  195928000              3\n",
       "4     39     380000     115500          0.0     264500              4\n",
       "..   ...        ...        ...          ...        ...            ...\n",
       "397   26    1495000     644000          0.0     851000              3\n",
       "398   28     920000     374284     704000.0     545716              4\n",
       "399   27  115600000   49470000   26400000.0   66130000              3\n",
       "400   24     240000      52000     120000.0     188000              5\n",
       "401   32  114774000   55308000   42000000.0   59466000              4\n",
       "\n",
       "[402 rows x 6 columns]"
      ]
     },
     "execution_count": 15,
     "metadata": {},
     "output_type": "execute_result"
    }
   ],
   "source": [
    "df"
   ]
  },
  {
   "cell_type": "code",
   "execution_count": 17,
   "id": "b7f8d7c6",
   "metadata": {},
   "outputs": [],
   "source": [
    "#data = df.to_csv('final123.csv', index=0)"
   ]
  },
  {
   "cell_type": "markdown",
   "id": "395dd588",
   "metadata": {},
   "source": [
    "### As savings column has negative values so removing all the negative values"
   ]
  },
  {
   "cell_type": "code",
   "execution_count": 20,
   "id": "95e4f0ad",
   "metadata": {},
   "outputs": [],
   "source": [
    "data = df[df['Savings']>0]"
   ]
  },
  {
   "cell_type": "code",
   "execution_count": 21,
   "id": "658cca30",
   "metadata": {},
   "outputs": [
    {
     "data": {
      "text/html": [
       "<div>\n",
       "<style scoped>\n",
       "    .dataframe tbody tr th:only-of-type {\n",
       "        vertical-align: middle;\n",
       "    }\n",
       "\n",
       "    .dataframe tbody tr th {\n",
       "        vertical-align: top;\n",
       "    }\n",
       "\n",
       "    .dataframe thead th {\n",
       "        text-align: right;\n",
       "    }\n",
       "</style>\n",
       "<table border=\"1\" class=\"dataframe\">\n",
       "  <thead>\n",
       "    <tr style=\"text-align: right;\">\n",
       "      <th></th>\n",
       "      <th>Age</th>\n",
       "      <th>Income</th>\n",
       "      <th>Expenses</th>\n",
       "      <th>Investment</th>\n",
       "      <th>Savings</th>\n",
       "      <th>Risk_Appetite</th>\n",
       "    </tr>\n",
       "  </thead>\n",
       "  <tbody>\n",
       "    <tr>\n",
       "      <th>0</th>\n",
       "      <td>52</td>\n",
       "      <td>9360000</td>\n",
       "      <td>3276000</td>\n",
       "      <td>160000000.0</td>\n",
       "      <td>6084000</td>\n",
       "      <td>4</td>\n",
       "    </tr>\n",
       "    <tr>\n",
       "      <th>2</th>\n",
       "      <td>63</td>\n",
       "      <td>18792000</td>\n",
       "      <td>5901500</td>\n",
       "      <td>204300000.0</td>\n",
       "      <td>12890500</td>\n",
       "      <td>4</td>\n",
       "    </tr>\n",
       "    <tr>\n",
       "      <th>3</th>\n",
       "      <td>40</td>\n",
       "      <td>199760000</td>\n",
       "      <td>3832000</td>\n",
       "      <td>198000000.0</td>\n",
       "      <td>195928000</td>\n",
       "      <td>3</td>\n",
       "    </tr>\n",
       "    <tr>\n",
       "      <th>4</th>\n",
       "      <td>39</td>\n",
       "      <td>380000</td>\n",
       "      <td>115500</td>\n",
       "      <td>0.0</td>\n",
       "      <td>264500</td>\n",
       "      <td>4</td>\n",
       "    </tr>\n",
       "    <tr>\n",
       "      <th>5</th>\n",
       "      <td>47</td>\n",
       "      <td>759900000</td>\n",
       "      <td>367200000</td>\n",
       "      <td>317700050.0</td>\n",
       "      <td>392700000</td>\n",
       "      <td>4</td>\n",
       "    </tr>\n",
       "    <tr>\n",
       "      <th>...</th>\n",
       "      <td>...</td>\n",
       "      <td>...</td>\n",
       "      <td>...</td>\n",
       "      <td>...</td>\n",
       "      <td>...</td>\n",
       "      <td>...</td>\n",
       "    </tr>\n",
       "    <tr>\n",
       "      <th>397</th>\n",
       "      <td>26</td>\n",
       "      <td>1495000</td>\n",
       "      <td>644000</td>\n",
       "      <td>0.0</td>\n",
       "      <td>851000</td>\n",
       "      <td>3</td>\n",
       "    </tr>\n",
       "    <tr>\n",
       "      <th>398</th>\n",
       "      <td>28</td>\n",
       "      <td>920000</td>\n",
       "      <td>374284</td>\n",
       "      <td>704000.0</td>\n",
       "      <td>545716</td>\n",
       "      <td>4</td>\n",
       "    </tr>\n",
       "    <tr>\n",
       "      <th>399</th>\n",
       "      <td>27</td>\n",
       "      <td>115600000</td>\n",
       "      <td>49470000</td>\n",
       "      <td>26400000.0</td>\n",
       "      <td>66130000</td>\n",
       "      <td>3</td>\n",
       "    </tr>\n",
       "    <tr>\n",
       "      <th>400</th>\n",
       "      <td>24</td>\n",
       "      <td>240000</td>\n",
       "      <td>52000</td>\n",
       "      <td>120000.0</td>\n",
       "      <td>188000</td>\n",
       "      <td>5</td>\n",
       "    </tr>\n",
       "    <tr>\n",
       "      <th>401</th>\n",
       "      <td>32</td>\n",
       "      <td>114774000</td>\n",
       "      <td>55308000</td>\n",
       "      <td>42000000.0</td>\n",
       "      <td>59466000</td>\n",
       "      <td>4</td>\n",
       "    </tr>\n",
       "  </tbody>\n",
       "</table>\n",
       "<p>370 rows × 6 columns</p>\n",
       "</div>"
      ],
      "text/plain": [
       "     Age     Income   Expenses   Investment    Savings  Risk_Appetite\n",
       "0     52    9360000    3276000  160000000.0    6084000              4\n",
       "2     63   18792000    5901500  204300000.0   12890500              4\n",
       "3     40  199760000    3832000  198000000.0  195928000              3\n",
       "4     39     380000     115500          0.0     264500              4\n",
       "5     47  759900000  367200000  317700050.0  392700000              4\n",
       "..   ...        ...        ...          ...        ...            ...\n",
       "397   26    1495000     644000          0.0     851000              3\n",
       "398   28     920000     374284     704000.0     545716              4\n",
       "399   27  115600000   49470000   26400000.0   66130000              3\n",
       "400   24     240000      52000     120000.0     188000              5\n",
       "401   32  114774000   55308000   42000000.0   59466000              4\n",
       "\n",
       "[370 rows x 6 columns]"
      ]
     },
     "execution_count": 21,
     "metadata": {},
     "output_type": "execute_result"
    }
   ],
   "source": [
    "data"
   ]
  },
  {
   "cell_type": "code",
   "execution_count": 22,
   "id": "2fa53dd7",
   "metadata": {},
   "outputs": [],
   "source": [
    "#In total, we have 1610 rows"
   ]
  },
  {
   "cell_type": "markdown",
   "id": "69cda7a0",
   "metadata": {},
   "source": [
    "### Converting all the riskcategory value = 6, to riskcategory value = 5"
   ]
  },
  {
   "cell_type": "code",
   "execution_count": 23,
   "id": "6125e40b",
   "metadata": {},
   "outputs": [],
   "source": [
    "data.rename(columns = {'Risk_Appetite':'riskcategory'}, inplace=True)"
   ]
  },
  {
   "cell_type": "code",
   "execution_count": 24,
   "id": "3eedc146",
   "metadata": {},
   "outputs": [
    {
     "data": {
      "text/html": [
       "<div>\n",
       "<style scoped>\n",
       "    .dataframe tbody tr th:only-of-type {\n",
       "        vertical-align: middle;\n",
       "    }\n",
       "\n",
       "    .dataframe tbody tr th {\n",
       "        vertical-align: top;\n",
       "    }\n",
       "\n",
       "    .dataframe thead th {\n",
       "        text-align: right;\n",
       "    }\n",
       "</style>\n",
       "<table border=\"1\" class=\"dataframe\">\n",
       "  <thead>\n",
       "    <tr style=\"text-align: right;\">\n",
       "      <th></th>\n",
       "      <th>Age</th>\n",
       "      <th>Income</th>\n",
       "      <th>Expenses</th>\n",
       "      <th>Investment</th>\n",
       "      <th>Savings</th>\n",
       "      <th>riskcategory</th>\n",
       "    </tr>\n",
       "  </thead>\n",
       "  <tbody>\n",
       "  </tbody>\n",
       "</table>\n",
       "</div>"
      ],
      "text/plain": [
       "Empty DataFrame\n",
       "Columns: [Age, Income, Expenses, Investment, Savings, riskcategory]\n",
       "Index: []"
      ]
     },
     "execution_count": 24,
     "metadata": {},
     "output_type": "execute_result"
    }
   ],
   "source": [
    "data[data['riskcategory']==6]"
   ]
  },
  {
   "cell_type": "markdown",
   "id": "3ebc7fbb",
   "metadata": {},
   "source": [
    "## EDA"
   ]
  },
  {
   "cell_type": "code",
   "execution_count": 27,
   "id": "30cd4840",
   "metadata": {},
   "outputs": [
    {
     "data": {
      "text/plain": [
       "Text(0, 0.5, 'Investment')"
      ]
     },
     "execution_count": 27,
     "metadata": {},
     "output_type": "execute_result"
    },
    {
     "data": {
      "image/png": "[encoded data removed]",
      "text/plain": [
       "<Figure size 3000x1000 with 1 Axes>"
      ]
     },
     "metadata": {},
     "output_type": "display_data"
    }
   ],
   "source": [
    "plt.subplots(figsize=(30, 10))\n",
    "sns.barplot(x='Age',y='Investment', data=data)\n",
    "plt.xlabel('Age', fontsize=20)\n",
    "plt.ylabel('Investment')"
   ]
  },
  {
   "cell_type": "code",
   "execution_count": 28,
   "id": "592845b0",
   "metadata": {},
   "outputs": [
    {
     "data": {
      "text/plain": [
       "Text(0, 0.5, 'Investment')"
      ]
     },
     "execution_count": 28,
     "metadata": {},
     "output_type": "execute_result"
    },
    {
     "data": {
      "image/png": "[encoded data removed]",
      "text/plain": [
       "<Figure size 500x200 with 1 Axes>"
      ]
     },
     "metadata": {},
     "output_type": "display_data"
    }
   ],
   "source": [
    "plt.subplots(figsize=(5, 2))\n",
    "sns.barplot(x='riskcategory',y='Investment', data=data)\n",
    "plt.xlabel('riskcategory', fontsize=10)\n",
    "plt.ylabel('Investment', fontsize=10)"
   ]
  },
  {
   "cell_type": "markdown",
   "id": "ed4ef0ab",
   "metadata": {},
   "source": [
    "#### Insight\n",
    "\n",
    "People have high investments tends to take higher risks"
   ]
  },
  {
   "cell_type": "code",
   "execution_count": 29,
   "id": "cdece884",
   "metadata": {},
   "outputs": [
    {
     "data": {
      "text/plain": [
       "Text(0, 0.5, 'savings')"
      ]
     },
     "execution_count": 29,
     "metadata": {},
     "output_type": "execute_result"
    },
    {
     "data": {
      "image/png": "[encoded data removed]",
      "text/plain": [
       "<Figure size 500x200 with 1 Axes>"
      ]
     },
     "metadata": {},
     "output_type": "display_data"
    }
   ],
   "source": [
    "plt.subplots(figsize=(5, 2))\n",
    "sns.barplot(x='riskcategory',y='Savings', data=data)\n",
    "plt.xlabel('riskcategory')\n",
    "plt.ylabel('savings')"
   ]
  },
  {
   "cell_type": "markdown",
   "id": "53addd1f",
   "metadata": {},
   "source": [
    "#### Insight\n",
    "\n",
    "High risk taking categories have higher savings"
   ]
  },
  {
   "cell_type": "code",
   "execution_count": 30,
   "id": "7fffd591",
   "metadata": {},
   "outputs": [
    {
     "data": {
      "text/plain": [
       "4    186\n",
       "3    135\n",
       "5     30\n",
       "2     17\n",
       "1      2\n",
       "Name: riskcategory, dtype: int64"
      ]
     },
     "execution_count": 30,
     "metadata": {},
     "output_type": "execute_result"
    }
   ],
   "source": [
    "data.riskcategory.value_counts()"
   ]
  },
  {
   "cell_type": "code",
   "execution_count": 32,
   "id": "7c372199",
   "metadata": {},
   "outputs": [
    {
     "data": {
      "text/plain": [
       "Text(0, 0.5, 'Savings')"
      ]
     },
     "execution_count": 32,
     "metadata": {},
     "output_type": "execute_result"
    },
    {
     "data": {
      "image/png": "[encoded data removed]",
      "text/plain": [
       "<Figure size 3000x1000 with 1 Axes>"
      ]
     },
     "metadata": {},
     "output_type": "display_data"
    }
   ],
   "source": [
    "plt.subplots(figsize=(30, 10))\n",
    "sns.barplot(x='Age',y='Savings', data=data)\n",
    "plt.xlabel('Age', fontsize=20)\n",
    "plt.ylabel('Savings')"
   ]
  },
  {
   "cell_type": "markdown",
   "id": "1ef22740",
   "metadata": {},
   "source": [
    "### Outlier detection and treatment"
   ]
  },
  {
   "cell_type": "code",
   "execution_count": 33,
   "id": "22e9aa92",
   "metadata": {},
   "outputs": [
    {
     "data": {
      "image/png": "[encoded data removed]",
      "text/plain": [
       "<Figure size 640x480 with 1 Axes>"
      ]
     },
     "metadata": {},
     "output_type": "display_data"
    }
   ],
   "source": [
    "plt.boxplot(data['Age'])\n",
    "plt.show()"
   ]
  },
  {
   "cell_type": "markdown",
   "id": "a181da7e",
   "metadata": {},
   "source": [
    "#### Insight\n",
    "\n",
    "There are no outliers in age column"
   ]
  },
  {
   "cell_type": "code",
   "execution_count": 34,
   "id": "44284d8d",
   "metadata": {},
   "outputs": [
    {
     "data": {
      "image/png": "[encoded data removed]",
      "text/plain": [
       "<Figure size 640x480 with 1 Axes>"
      ]
     },
     "metadata": {},
     "output_type": "display_data"
    }
   ],
   "source": [
    "plt.boxplot(data['Investment'])\n",
    "plt.show()"
   ]
  },
  {
   "cell_type": "code",
   "execution_count": 36,
   "id": "ded4898b",
   "metadata": {},
   "outputs": [],
   "source": [
    "data.drop(data[data['Investment'] > 8214400000].index, inplace=True)"
   ]
  },
  {
   "cell_type": "code",
   "execution_count": 38,
   "id": "24d4290c",
   "metadata": {},
   "outputs": [
    {
     "data": {
      "image/png": "[encoded data removed]",
      "text/plain": [
       "<Figure size 640x480 with 1 Axes>"
      ]
     },
     "metadata": {},
     "output_type": "display_data"
    }
   ],
   "source": [
    "plt.boxplot(data['Investment'])\n",
    "plt.show()"
   ]
  },
  {
   "cell_type": "code",
   "execution_count": 39,
   "id": "a62d3622",
   "metadata": {},
   "outputs": [
    {
     "data": {
      "image/png": "[encoded data removed]",
      "text/plain": [
       "<Figure size 640x480 with 1 Axes>"
      ]
     },
     "metadata": {},
     "output_type": "display_data"
    }
   ],
   "source": [
    "plt.boxplot(data['Savings'])\n",
    "plt.show()"
   ]
  },
  {
   "cell_type": "code",
   "execution_count": 30,
   "id": "daf6681a",
   "metadata": {},
   "outputs": [],
   "source": [
    "#data.drop(data[data['savings'] >= 146003694844].index, inplace=True)\n"
   ]
  },
  {
   "cell_type": "code",
   "execution_count": 40,
   "id": "74c9ee8b",
   "metadata": {},
   "outputs": [],
   "source": [
    "# plt.boxplot(data['savings'])\n",
    "# plt.show()"
   ]
  },
  {
   "cell_type": "code",
   "execution_count": 41,
   "id": "7692474f",
   "metadata": {},
   "outputs": [],
   "source": [
    "#data.drop(data[data['expenses'] < 7].index, inplace = True)"
   ]
  },
  {
   "cell_type": "markdown",
   "id": "49904739",
   "metadata": {},
   "source": [
    "#### In expenses column we have one outlier before minimum in box plot, removing the outlier"
   ]
  },
  {
   "cell_type": "code",
   "execution_count": 42,
   "id": "786d386c",
   "metadata": {},
   "outputs": [
    {
     "data": {
      "image/png": "[encoded data removed]",
      "text/plain": [
       "<Figure size 640x480 with 1 Axes>"
      ]
     },
     "metadata": {},
     "output_type": "display_data"
    }
   ],
   "source": [
    "plt.boxplot(data['Expenses'])\n",
    "plt.show()"
   ]
  },
  {
   "cell_type": "code",
   "execution_count": 34,
   "id": "93d73730",
   "metadata": {},
   "outputs": [],
   "source": [
    "#data.drop(data[data['expenses'] >= 15582336000].index, inplace=True)\n"
   ]
  },
  {
   "cell_type": "code",
   "execution_count": 43,
   "id": "00551186",
   "metadata": {},
   "outputs": [],
   "source": [
    "# plt.boxplot(data['expenses'])\n",
    "# plt.show()"
   ]
  },
  {
   "cell_type": "code",
   "execution_count": 44,
   "id": "fbd6b9f2",
   "metadata": {},
   "outputs": [
    {
     "data": {
      "image/png": "[encoded data removed]",
      "text/plain": [
       "<Figure size 640x480 with 1 Axes>"
      ]
     },
     "metadata": {},
     "output_type": "display_data"
    }
   ],
   "source": [
    "plt.boxplot(data['Income'])\n",
    "plt.show()"
   ]
  },
  {
   "cell_type": "code",
   "execution_count": 46,
   "id": "870aeccf",
   "metadata": {},
   "outputs": [],
   "source": [
    "#data.drop(data[data['income'] > 658707518219].index, inplace=True)"
   ]
  },
  {
   "cell_type": "code",
   "execution_count": 48,
   "id": "0a918ac5",
   "metadata": {},
   "outputs": [],
   "source": [
    "data.to_csv('/home/khusboos/Downloads/risk_appetite_data.csv' , index=None)"
   ]
  },
  {
   "cell_type": "code",
   "execution_count": 49,
   "id": "7d14ceae",
   "metadata": {},
   "outputs": [],
   "source": [
    "data.to_csv('risk_appetite_data.csv', index=0)"
   ]
  },
  {
   "cell_type": "code",
   "execution_count": null,
   "id": "71ab54f1",
   "metadata": {},
   "outputs": [],
   "source": []
  }
 ],
 "metadata": {
  "kernelspec": {
   "display_name": "Python 3 (ipykernel)",
   "language": "python",
   "name": "python3"
  },
  "language_info": {
   "codemirror_mode": {
    "name": "ipython",
    "version": 3
   },
   "file_extension": ".py",
   "mimetype": "text/x-python",
   "name": "python",
   "nbconvert_exporter": "python",
   "pygments_lexer": "ipython3",
   "version": "3.10.9"
  }
 },
 "nbformat": 4,
 "nbformat_minor": 5
}
