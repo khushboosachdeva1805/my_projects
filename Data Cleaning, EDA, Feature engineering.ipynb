{
 "cells": [
  {
   "cell_type": "code",
   "execution_count": 1,
   "id": "cdca9151",
   "metadata": {},
   "outputs": [],
   "source": [
    "import numpy as np\n",
    "import pandas as pd\n",
    "import matplotlib.pyplot as plt\n",
    "import seaborn as sns\n",
    "import warnings\n",
    "warnings.filterwarnings('ignore')\n",
    "#from sklearn import datasets"
   ]
  },
  {
   "cell_type": "code",
   "execution_count": 2,
   "id": "a949a226",
   "metadata": {},
   "outputs": [],
   "source": [
    "df = pd.read_csv('Training Data/risk_new_data.csv')"
   ]
  },
  {
   "cell_type": "code",
   "execution_count": 3,
   "id": "eed9ce29",
   "metadata": {},
   "outputs": [
    {
     "data": {
      "text/html": [
       "<div>\n",
       "<style scoped>\n",
       "    .dataframe tbody tr th:only-of-type {\n",
       "        vertical-align: middle;\n",
       "    }\n",
       "\n",
       "    .dataframe tbody tr th {\n",
       "        vertical-align: top;\n",
       "    }\n",
       "\n",
       "    .dataframe thead th {\n",
       "        text-align: right;\n",
       "    }\n",
       "</style>\n",
       "<table border=\"1\" class=\"dataframe\">\n",
       "  <thead>\n",
       "    <tr style=\"text-align: right;\">\n",
       "      <th></th>\n",
       "      <th>email</th>\n",
       "      <th>PAN</th>\n",
       "      <th>age</th>\n",
       "      <th>income</th>\n",
       "      <th>expenses</th>\n",
       "      <th>investment</th>\n",
       "      <th>q1_answer</th>\n",
       "    </tr>\n",
       "  </thead>\n",
       "  <tbody>\n",
       "    <tr>\n",
       "      <th>0</th>\n",
       "      <td>garyxaviers@gmail.com</td>\n",
       "      <td>AAAPX6850C</td>\n",
       "      <td>41</td>\n",
       "      <td>360000</td>\n",
       "      <td>150000</td>\n",
       "      <td>0.0</td>\n",
       "      <td>4</td>\n",
       "    </tr>\n",
       "    <tr>\n",
       "      <th>1</th>\n",
       "      <td>prakharb40@gmail.com</td>\n",
       "      <td>AAEPB5256B</td>\n",
       "      <td>57</td>\n",
       "      <td>2750000</td>\n",
       "      <td>160000</td>\n",
       "      <td>40000000.0</td>\n",
       "      <td>3</td>\n",
       "    </tr>\n",
       "    <tr>\n",
       "      <th>2</th>\n",
       "      <td>jayeshpathak528@rocketmail.com</td>\n",
       "      <td>AAGHJ1666D</td>\n",
       "      <td>50</td>\n",
       "      <td>420000</td>\n",
       "      <td>189000</td>\n",
       "      <td>7400000.0</td>\n",
       "      <td>3</td>\n",
       "    </tr>\n",
       "    <tr>\n",
       "      <th>3</th>\n",
       "      <td>zishnavyseals85@gmail.com</td>\n",
       "      <td>AAIPF3835G</td>\n",
       "      <td>38</td>\n",
       "      <td>1140000</td>\n",
       "      <td>106500</td>\n",
       "      <td>1622000.0</td>\n",
       "      <td>4</td>\n",
       "    </tr>\n",
       "    <tr>\n",
       "      <th>4</th>\n",
       "      <td>ojhaprashant1@gmail.com</td>\n",
       "      <td>AAOPO1352K</td>\n",
       "      <td>39</td>\n",
       "      <td>380000</td>\n",
       "      <td>115500</td>\n",
       "      <td>0.0</td>\n",
       "      <td>4</td>\n",
       "    </tr>\n",
       "    <tr>\n",
       "      <th>...</th>\n",
       "      <td>...</td>\n",
       "      <td>...</td>\n",
       "      <td>...</td>\n",
       "      <td>...</td>\n",
       "      <td>...</td>\n",
       "      <td>...</td>\n",
       "      <td>...</td>\n",
       "    </tr>\n",
       "    <tr>\n",
       "      <th>757</th>\n",
       "      <td>ss1149911@gmail.com</td>\n",
       "      <td>OAVPS0955P</td>\n",
       "      <td>22</td>\n",
       "      <td>32000</td>\n",
       "      <td>10000</td>\n",
       "      <td>0.0</td>\n",
       "      <td>1</td>\n",
       "    </tr>\n",
       "    <tr>\n",
       "      <th>758</th>\n",
       "      <td>ganeshshakthi2000@gmail.com</td>\n",
       "      <td>OYIPS8074Q</td>\n",
       "      <td>22</td>\n",
       "      <td>240000</td>\n",
       "      <td>35000</td>\n",
       "      <td>300000.0</td>\n",
       "      <td>4</td>\n",
       "    </tr>\n",
       "    <tr>\n",
       "      <th>759</th>\n",
       "      <td>amey40@yopkail.com</td>\n",
       "      <td>PPPPP9999L</td>\n",
       "      <td>27</td>\n",
       "      <td>50000</td>\n",
       "      <td>10000</td>\n",
       "      <td>200000.0</td>\n",
       "      <td>3</td>\n",
       "    </tr>\n",
       "    <tr>\n",
       "      <th>760</th>\n",
       "      <td>anjali.singh@fintoo.in</td>\n",
       "      <td>PTNPS0932K</td>\n",
       "      <td>31</td>\n",
       "      <td>3000000</td>\n",
       "      <td>1020000</td>\n",
       "      <td>2000000.0</td>\n",
       "      <td>3</td>\n",
       "    </tr>\n",
       "    <tr>\n",
       "      <th>761</th>\n",
       "      <td>batmantry007@gmail.com</td>\n",
       "      <td>QWEPA1234L</td>\n",
       "      <td>24</td>\n",
       "      <td>65000</td>\n",
       "      <td>100000</td>\n",
       "      <td>0.0</td>\n",
       "      <td>3</td>\n",
       "    </tr>\n",
       "  </tbody>\n",
       "</table>\n",
       "<p>762 rows × 7 columns</p>\n",
       "</div>"
      ],
      "text/plain": [
       "                              email         PAN  age   income  expenses  \\\n",
       "0             garyxaviers@gmail.com  AAAPX6850C   41   360000    150000   \n",
       "1              prakharb40@gmail.com  AAEPB5256B   57  2750000    160000   \n",
       "2    jayeshpathak528@rocketmail.com  AAGHJ1666D   50   420000    189000   \n",
       "3         zishnavyseals85@gmail.com  AAIPF3835G   38  1140000    106500   \n",
       "4           ojhaprashant1@gmail.com  AAOPO1352K   39   380000    115500   \n",
       "..                              ...         ...  ...      ...       ...   \n",
       "757             ss1149911@gmail.com  OAVPS0955P   22    32000     10000   \n",
       "758     ganeshshakthi2000@gmail.com  OYIPS8074Q   22   240000     35000   \n",
       "759              amey40@yopkail.com  PPPPP9999L   27    50000     10000   \n",
       "760          anjali.singh@fintoo.in  PTNPS0932K   31  3000000   1020000   \n",
       "761          batmantry007@gmail.com  QWEPA1234L   24    65000    100000   \n",
       "\n",
       "     investment  q1_answer  \n",
       "0           0.0          4  \n",
       "1    40000000.0          3  \n",
       "2     7400000.0          3  \n",
       "3     1622000.0          4  \n",
       "4           0.0          4  \n",
       "..          ...        ...  \n",
       "757         0.0          1  \n",
       "758    300000.0          4  \n",
       "759    200000.0          3  \n",
       "760   2000000.0          3  \n",
       "761         0.0          3  \n",
       "\n",
       "[762 rows x 7 columns]"
      ]
     },
     "execution_count": 3,
     "metadata": {},
     "output_type": "execute_result"
    }
   ],
   "source": [
    "df"
   ]
  },
  {
   "cell_type": "markdown",
   "id": "5b562690",
   "metadata": {},
   "source": [
    "### Adding a column Savings by subtracting expenses from income"
   ]
  },
  {
   "cell_type": "code",
   "execution_count": 4,
   "id": "18b4afc3",
   "metadata": {},
   "outputs": [],
   "source": [
    "df['savings'] = df['income']-df['expenses']"
   ]
  },
  {
   "cell_type": "code",
   "execution_count": 5,
   "id": "f261d632",
   "metadata": {},
   "outputs": [
    {
     "data": {
      "text/html": [
       "<div>\n",
       "<style scoped>\n",
       "    .dataframe tbody tr th:only-of-type {\n",
       "        vertical-align: middle;\n",
       "    }\n",
       "\n",
       "    .dataframe tbody tr th {\n",
       "        vertical-align: top;\n",
       "    }\n",
       "\n",
       "    .dataframe thead th {\n",
       "        text-align: right;\n",
       "    }\n",
       "</style>\n",
       "<table border=\"1\" class=\"dataframe\">\n",
       "  <thead>\n",
       "    <tr style=\"text-align: right;\">\n",
       "      <th></th>\n",
       "      <th>email</th>\n",
       "      <th>PAN</th>\n",
       "      <th>age</th>\n",
       "      <th>income</th>\n",
       "      <th>expenses</th>\n",
       "      <th>investment</th>\n",
       "      <th>q1_answer</th>\n",
       "      <th>savings</th>\n",
       "    </tr>\n",
       "  </thead>\n",
       "  <tbody>\n",
       "    <tr>\n",
       "      <th>0</th>\n",
       "      <td>garyxaviers@gmail.com</td>\n",
       "      <td>AAAPX6850C</td>\n",
       "      <td>41</td>\n",
       "      <td>360000</td>\n",
       "      <td>150000</td>\n",
       "      <td>0.0</td>\n",
       "      <td>4</td>\n",
       "      <td>210000</td>\n",
       "    </tr>\n",
       "    <tr>\n",
       "      <th>1</th>\n",
       "      <td>prakharb40@gmail.com</td>\n",
       "      <td>AAEPB5256B</td>\n",
       "      <td>57</td>\n",
       "      <td>2750000</td>\n",
       "      <td>160000</td>\n",
       "      <td>40000000.0</td>\n",
       "      <td>3</td>\n",
       "      <td>2590000</td>\n",
       "    </tr>\n",
       "    <tr>\n",
       "      <th>2</th>\n",
       "      <td>jayeshpathak528@rocketmail.com</td>\n",
       "      <td>AAGHJ1666D</td>\n",
       "      <td>50</td>\n",
       "      <td>420000</td>\n",
       "      <td>189000</td>\n",
       "      <td>7400000.0</td>\n",
       "      <td>3</td>\n",
       "      <td>231000</td>\n",
       "    </tr>\n",
       "    <tr>\n",
       "      <th>3</th>\n",
       "      <td>zishnavyseals85@gmail.com</td>\n",
       "      <td>AAIPF3835G</td>\n",
       "      <td>38</td>\n",
       "      <td>1140000</td>\n",
       "      <td>106500</td>\n",
       "      <td>1622000.0</td>\n",
       "      <td>4</td>\n",
       "      <td>1033500</td>\n",
       "    </tr>\n",
       "    <tr>\n",
       "      <th>4</th>\n",
       "      <td>ojhaprashant1@gmail.com</td>\n",
       "      <td>AAOPO1352K</td>\n",
       "      <td>39</td>\n",
       "      <td>380000</td>\n",
       "      <td>115500</td>\n",
       "      <td>0.0</td>\n",
       "      <td>4</td>\n",
       "      <td>264500</td>\n",
       "    </tr>\n",
       "    <tr>\n",
       "      <th>...</th>\n",
       "      <td>...</td>\n",
       "      <td>...</td>\n",
       "      <td>...</td>\n",
       "      <td>...</td>\n",
       "      <td>...</td>\n",
       "      <td>...</td>\n",
       "      <td>...</td>\n",
       "      <td>...</td>\n",
       "    </tr>\n",
       "    <tr>\n",
       "      <th>757</th>\n",
       "      <td>ss1149911@gmail.com</td>\n",
       "      <td>OAVPS0955P</td>\n",
       "      <td>22</td>\n",
       "      <td>32000</td>\n",
       "      <td>10000</td>\n",
       "      <td>0.0</td>\n",
       "      <td>1</td>\n",
       "      <td>22000</td>\n",
       "    </tr>\n",
       "    <tr>\n",
       "      <th>758</th>\n",
       "      <td>ganeshshakthi2000@gmail.com</td>\n",
       "      <td>OYIPS8074Q</td>\n",
       "      <td>22</td>\n",
       "      <td>240000</td>\n",
       "      <td>35000</td>\n",
       "      <td>300000.0</td>\n",
       "      <td>4</td>\n",
       "      <td>205000</td>\n",
       "    </tr>\n",
       "    <tr>\n",
       "      <th>759</th>\n",
       "      <td>amey40@yopkail.com</td>\n",
       "      <td>PPPPP9999L</td>\n",
       "      <td>27</td>\n",
       "      <td>50000</td>\n",
       "      <td>10000</td>\n",
       "      <td>200000.0</td>\n",
       "      <td>3</td>\n",
       "      <td>40000</td>\n",
       "    </tr>\n",
       "    <tr>\n",
       "      <th>760</th>\n",
       "      <td>anjali.singh@fintoo.in</td>\n",
       "      <td>PTNPS0932K</td>\n",
       "      <td>31</td>\n",
       "      <td>3000000</td>\n",
       "      <td>1020000</td>\n",
       "      <td>2000000.0</td>\n",
       "      <td>3</td>\n",
       "      <td>1980000</td>\n",
       "    </tr>\n",
       "    <tr>\n",
       "      <th>761</th>\n",
       "      <td>batmantry007@gmail.com</td>\n",
       "      <td>QWEPA1234L</td>\n",
       "      <td>24</td>\n",
       "      <td>65000</td>\n",
       "      <td>100000</td>\n",
       "      <td>0.0</td>\n",
       "      <td>3</td>\n",
       "      <td>-35000</td>\n",
       "    </tr>\n",
       "  </tbody>\n",
       "</table>\n",
       "<p>762 rows × 8 columns</p>\n",
       "</div>"
      ],
      "text/plain": [
       "                              email         PAN  age   income  expenses  \\\n",
       "0             garyxaviers@gmail.com  AAAPX6850C   41   360000    150000   \n",
       "1              prakharb40@gmail.com  AAEPB5256B   57  2750000    160000   \n",
       "2    jayeshpathak528@rocketmail.com  AAGHJ1666D   50   420000    189000   \n",
       "3         zishnavyseals85@gmail.com  AAIPF3835G   38  1140000    106500   \n",
       "4           ojhaprashant1@gmail.com  AAOPO1352K   39   380000    115500   \n",
       "..                              ...         ...  ...      ...       ...   \n",
       "757             ss1149911@gmail.com  OAVPS0955P   22    32000     10000   \n",
       "758     ganeshshakthi2000@gmail.com  OYIPS8074Q   22   240000     35000   \n",
       "759              amey40@yopkail.com  PPPPP9999L   27    50000     10000   \n",
       "760          anjali.singh@fintoo.in  PTNPS0932K   31  3000000   1020000   \n",
       "761          batmantry007@gmail.com  QWEPA1234L   24    65000    100000   \n",
       "\n",
       "     investment  q1_answer  savings  \n",
       "0           0.0          4   210000  \n",
       "1    40000000.0          3  2590000  \n",
       "2     7400000.0          3   231000  \n",
       "3     1622000.0          4  1033500  \n",
       "4           0.0          4   264500  \n",
       "..          ...        ...      ...  \n",
       "757         0.0          1    22000  \n",
       "758    300000.0          4   205000  \n",
       "759    200000.0          3    40000  \n",
       "760   2000000.0          3  1980000  \n",
       "761         0.0          3   -35000  \n",
       "\n",
       "[762 rows x 8 columns]"
      ]
     },
     "execution_count": 5,
     "metadata": {},
     "output_type": "execute_result"
    }
   ],
   "source": [
    "df"
   ]
  },
  {
   "cell_type": "code",
   "execution_count": null,
   "id": "44699282",
   "metadata": {},
   "outputs": [],
   "source": []
  },
  {
   "cell_type": "markdown",
   "id": "fba720eb",
   "metadata": {},
   "source": [
    "### Moving 'riskcategory' column to last"
   ]
  },
  {
   "cell_type": "code",
   "execution_count": 6,
   "id": "217164ae",
   "metadata": {},
   "outputs": [],
   "source": [
    "data = list(df.columns)\n",
    "data.remove('q1_answer')\n",
    "data.append('q1_answer')"
   ]
  },
  {
   "cell_type": "code",
   "execution_count": 7,
   "id": "04998904",
   "metadata": {},
   "outputs": [
    {
     "data": {
      "text/plain": [
       "['email',\n",
       " 'PAN',\n",
       " 'age',\n",
       " 'income',\n",
       " 'expenses',\n",
       " 'investment',\n",
       " 'savings',\n",
       " 'q1_answer']"
      ]
     },
     "execution_count": 7,
     "metadata": {},
     "output_type": "execute_result"
    }
   ],
   "source": [
    "data"
   ]
  },
  {
   "cell_type": "code",
   "execution_count": 8,
   "id": "bef54354",
   "metadata": {},
   "outputs": [],
   "source": [
    "df = df[data]"
   ]
  },
  {
   "cell_type": "code",
   "execution_count": 9,
   "id": "5efe8190",
   "metadata": {},
   "outputs": [
    {
     "data": {
      "text/html": [
       "<div>\n",
       "<style scoped>\n",
       "    .dataframe tbody tr th:only-of-type {\n",
       "        vertical-align: middle;\n",
       "    }\n",
       "\n",
       "    .dataframe tbody tr th {\n",
       "        vertical-align: top;\n",
       "    }\n",
       "\n",
       "    .dataframe thead th {\n",
       "        text-align: right;\n",
       "    }\n",
       "</style>\n",
       "<table border=\"1\" class=\"dataframe\">\n",
       "  <thead>\n",
       "    <tr style=\"text-align: right;\">\n",
       "      <th></th>\n",
       "      <th>email</th>\n",
       "      <th>PAN</th>\n",
       "      <th>age</th>\n",
       "      <th>income</th>\n",
       "      <th>expenses</th>\n",
       "      <th>investment</th>\n",
       "      <th>savings</th>\n",
       "      <th>q1_answer</th>\n",
       "    </tr>\n",
       "  </thead>\n",
       "  <tbody>\n",
       "    <tr>\n",
       "      <th>0</th>\n",
       "      <td>garyxaviers@gmail.com</td>\n",
       "      <td>AAAPX6850C</td>\n",
       "      <td>41</td>\n",
       "      <td>360000</td>\n",
       "      <td>150000</td>\n",
       "      <td>0.0</td>\n",
       "      <td>210000</td>\n",
       "      <td>4</td>\n",
       "    </tr>\n",
       "    <tr>\n",
       "      <th>1</th>\n",
       "      <td>prakharb40@gmail.com</td>\n",
       "      <td>AAEPB5256B</td>\n",
       "      <td>57</td>\n",
       "      <td>2750000</td>\n",
       "      <td>160000</td>\n",
       "      <td>40000000.0</td>\n",
       "      <td>2590000</td>\n",
       "      <td>3</td>\n",
       "    </tr>\n",
       "    <tr>\n",
       "      <th>2</th>\n",
       "      <td>jayeshpathak528@rocketmail.com</td>\n",
       "      <td>AAGHJ1666D</td>\n",
       "      <td>50</td>\n",
       "      <td>420000</td>\n",
       "      <td>189000</td>\n",
       "      <td>7400000.0</td>\n",
       "      <td>231000</td>\n",
       "      <td>3</td>\n",
       "    </tr>\n",
       "    <tr>\n",
       "      <th>3</th>\n",
       "      <td>zishnavyseals85@gmail.com</td>\n",
       "      <td>AAIPF3835G</td>\n",
       "      <td>38</td>\n",
       "      <td>1140000</td>\n",
       "      <td>106500</td>\n",
       "      <td>1622000.0</td>\n",
       "      <td>1033500</td>\n",
       "      <td>4</td>\n",
       "    </tr>\n",
       "    <tr>\n",
       "      <th>4</th>\n",
       "      <td>ojhaprashant1@gmail.com</td>\n",
       "      <td>AAOPO1352K</td>\n",
       "      <td>39</td>\n",
       "      <td>380000</td>\n",
       "      <td>115500</td>\n",
       "      <td>0.0</td>\n",
       "      <td>264500</td>\n",
       "      <td>4</td>\n",
       "    </tr>\n",
       "    <tr>\n",
       "      <th>...</th>\n",
       "      <td>...</td>\n",
       "      <td>...</td>\n",
       "      <td>...</td>\n",
       "      <td>...</td>\n",
       "      <td>...</td>\n",
       "      <td>...</td>\n",
       "      <td>...</td>\n",
       "      <td>...</td>\n",
       "    </tr>\n",
       "    <tr>\n",
       "      <th>757</th>\n",
       "      <td>ss1149911@gmail.com</td>\n",
       "      <td>OAVPS0955P</td>\n",
       "      <td>22</td>\n",
       "      <td>32000</td>\n",
       "      <td>10000</td>\n",
       "      <td>0.0</td>\n",
       "      <td>22000</td>\n",
       "      <td>1</td>\n",
       "    </tr>\n",
       "    <tr>\n",
       "      <th>758</th>\n",
       "      <td>ganeshshakthi2000@gmail.com</td>\n",
       "      <td>OYIPS8074Q</td>\n",
       "      <td>22</td>\n",
       "      <td>240000</td>\n",
       "      <td>35000</td>\n",
       "      <td>300000.0</td>\n",
       "      <td>205000</td>\n",
       "      <td>4</td>\n",
       "    </tr>\n",
       "    <tr>\n",
       "      <th>759</th>\n",
       "      <td>amey40@yopkail.com</td>\n",
       "      <td>PPPPP9999L</td>\n",
       "      <td>27</td>\n",
       "      <td>50000</td>\n",
       "      <td>10000</td>\n",
       "      <td>200000.0</td>\n",
       "      <td>40000</td>\n",
       "      <td>3</td>\n",
       "    </tr>\n",
       "    <tr>\n",
       "      <th>760</th>\n",
       "      <td>anjali.singh@fintoo.in</td>\n",
       "      <td>PTNPS0932K</td>\n",
       "      <td>31</td>\n",
       "      <td>3000000</td>\n",
       "      <td>1020000</td>\n",
       "      <td>2000000.0</td>\n",
       "      <td>1980000</td>\n",
       "      <td>3</td>\n",
       "    </tr>\n",
       "    <tr>\n",
       "      <th>761</th>\n",
       "      <td>batmantry007@gmail.com</td>\n",
       "      <td>QWEPA1234L</td>\n",
       "      <td>24</td>\n",
       "      <td>65000</td>\n",
       "      <td>100000</td>\n",
       "      <td>0.0</td>\n",
       "      <td>-35000</td>\n",
       "      <td>3</td>\n",
       "    </tr>\n",
       "  </tbody>\n",
       "</table>\n",
       "<p>762 rows × 8 columns</p>\n",
       "</div>"
      ],
      "text/plain": [
       "                              email         PAN  age   income  expenses  \\\n",
       "0             garyxaviers@gmail.com  AAAPX6850C   41   360000    150000   \n",
       "1              prakharb40@gmail.com  AAEPB5256B   57  2750000    160000   \n",
       "2    jayeshpathak528@rocketmail.com  AAGHJ1666D   50   420000    189000   \n",
       "3         zishnavyseals85@gmail.com  AAIPF3835G   38  1140000    106500   \n",
       "4           ojhaprashant1@gmail.com  AAOPO1352K   39   380000    115500   \n",
       "..                              ...         ...  ...      ...       ...   \n",
       "757             ss1149911@gmail.com  OAVPS0955P   22    32000     10000   \n",
       "758     ganeshshakthi2000@gmail.com  OYIPS8074Q   22   240000     35000   \n",
       "759              amey40@yopkail.com  PPPPP9999L   27    50000     10000   \n",
       "760          anjali.singh@fintoo.in  PTNPS0932K   31  3000000   1020000   \n",
       "761          batmantry007@gmail.com  QWEPA1234L   24    65000    100000   \n",
       "\n",
       "     investment  savings  q1_answer  \n",
       "0           0.0   210000          4  \n",
       "1    40000000.0  2590000          3  \n",
       "2     7400000.0   231000          3  \n",
       "3     1622000.0  1033500          4  \n",
       "4           0.0   264500          4  \n",
       "..          ...      ...        ...  \n",
       "757         0.0    22000          1  \n",
       "758    300000.0   205000          4  \n",
       "759    200000.0    40000          3  \n",
       "760   2000000.0  1980000          3  \n",
       "761         0.0   -35000          3  \n",
       "\n",
       "[762 rows x 8 columns]"
      ]
     },
     "execution_count": 9,
     "metadata": {},
     "output_type": "execute_result"
    }
   ],
   "source": [
    "df"
   ]
  },
  {
   "cell_type": "code",
   "execution_count": 10,
   "id": "aa09fce0",
   "metadata": {},
   "outputs": [],
   "source": [
    "df.drop(['email','PAN'], axis=1, inplace=True)"
   ]
  },
  {
   "cell_type": "code",
   "execution_count": 11,
   "id": "8835726d",
   "metadata": {},
   "outputs": [
    {
     "data": {
      "text/html": [
       "<div>\n",
       "<style scoped>\n",
       "    .dataframe tbody tr th:only-of-type {\n",
       "        vertical-align: middle;\n",
       "    }\n",
       "\n",
       "    .dataframe tbody tr th {\n",
       "        vertical-align: top;\n",
       "    }\n",
       "\n",
       "    .dataframe thead th {\n",
       "        text-align: right;\n",
       "    }\n",
       "</style>\n",
       "<table border=\"1\" class=\"dataframe\">\n",
       "  <thead>\n",
       "    <tr style=\"text-align: right;\">\n",
       "      <th></th>\n",
       "      <th>age</th>\n",
       "      <th>income</th>\n",
       "      <th>expenses</th>\n",
       "      <th>investment</th>\n",
       "      <th>savings</th>\n",
       "      <th>q1_answer</th>\n",
       "    </tr>\n",
       "  </thead>\n",
       "  <tbody>\n",
       "    <tr>\n",
       "      <th>0</th>\n",
       "      <td>41</td>\n",
       "      <td>360000</td>\n",
       "      <td>150000</td>\n",
       "      <td>0.0</td>\n",
       "      <td>210000</td>\n",
       "      <td>4</td>\n",
       "    </tr>\n",
       "    <tr>\n",
       "      <th>1</th>\n",
       "      <td>57</td>\n",
       "      <td>2750000</td>\n",
       "      <td>160000</td>\n",
       "      <td>40000000.0</td>\n",
       "      <td>2590000</td>\n",
       "      <td>3</td>\n",
       "    </tr>\n",
       "    <tr>\n",
       "      <th>2</th>\n",
       "      <td>50</td>\n",
       "      <td>420000</td>\n",
       "      <td>189000</td>\n",
       "      <td>7400000.0</td>\n",
       "      <td>231000</td>\n",
       "      <td>3</td>\n",
       "    </tr>\n",
       "    <tr>\n",
       "      <th>3</th>\n",
       "      <td>38</td>\n",
       "      <td>1140000</td>\n",
       "      <td>106500</td>\n",
       "      <td>1622000.0</td>\n",
       "      <td>1033500</td>\n",
       "      <td>4</td>\n",
       "    </tr>\n",
       "    <tr>\n",
       "      <th>4</th>\n",
       "      <td>39</td>\n",
       "      <td>380000</td>\n",
       "      <td>115500</td>\n",
       "      <td>0.0</td>\n",
       "      <td>264500</td>\n",
       "      <td>4</td>\n",
       "    </tr>\n",
       "    <tr>\n",
       "      <th>...</th>\n",
       "      <td>...</td>\n",
       "      <td>...</td>\n",
       "      <td>...</td>\n",
       "      <td>...</td>\n",
       "      <td>...</td>\n",
       "      <td>...</td>\n",
       "    </tr>\n",
       "    <tr>\n",
       "      <th>757</th>\n",
       "      <td>22</td>\n",
       "      <td>32000</td>\n",
       "      <td>10000</td>\n",
       "      <td>0.0</td>\n",
       "      <td>22000</td>\n",
       "      <td>1</td>\n",
       "    </tr>\n",
       "    <tr>\n",
       "      <th>758</th>\n",
       "      <td>22</td>\n",
       "      <td>240000</td>\n",
       "      <td>35000</td>\n",
       "      <td>300000.0</td>\n",
       "      <td>205000</td>\n",
       "      <td>4</td>\n",
       "    </tr>\n",
       "    <tr>\n",
       "      <th>759</th>\n",
       "      <td>27</td>\n",
       "      <td>50000</td>\n",
       "      <td>10000</td>\n",
       "      <td>200000.0</td>\n",
       "      <td>40000</td>\n",
       "      <td>3</td>\n",
       "    </tr>\n",
       "    <tr>\n",
       "      <th>760</th>\n",
       "      <td>31</td>\n",
       "      <td>3000000</td>\n",
       "      <td>1020000</td>\n",
       "      <td>2000000.0</td>\n",
       "      <td>1980000</td>\n",
       "      <td>3</td>\n",
       "    </tr>\n",
       "    <tr>\n",
       "      <th>761</th>\n",
       "      <td>24</td>\n",
       "      <td>65000</td>\n",
       "      <td>100000</td>\n",
       "      <td>0.0</td>\n",
       "      <td>-35000</td>\n",
       "      <td>3</td>\n",
       "    </tr>\n",
       "  </tbody>\n",
       "</table>\n",
       "<p>762 rows × 6 columns</p>\n",
       "</div>"
      ],
      "text/plain": [
       "     age   income  expenses  investment  savings  q1_answer\n",
       "0     41   360000    150000         0.0   210000          4\n",
       "1     57  2750000    160000  40000000.0  2590000          3\n",
       "2     50   420000    189000   7400000.0   231000          3\n",
       "3     38  1140000    106500   1622000.0  1033500          4\n",
       "4     39   380000    115500         0.0   264500          4\n",
       "..   ...      ...       ...         ...      ...        ...\n",
       "757   22    32000     10000         0.0    22000          1\n",
       "758   22   240000     35000    300000.0   205000          4\n",
       "759   27    50000     10000    200000.0    40000          3\n",
       "760   31  3000000   1020000   2000000.0  1980000          3\n",
       "761   24    65000    100000         0.0   -35000          3\n",
       "\n",
       "[762 rows x 6 columns]"
      ]
     },
     "execution_count": 11,
     "metadata": {},
     "output_type": "execute_result"
    }
   ],
   "source": [
    "df"
   ]
  },
  {
   "cell_type": "code",
   "execution_count": 12,
   "id": "b7f8d7c6",
   "metadata": {},
   "outputs": [],
   "source": [
    "#data = df.to_csv('final123.csv', index=0)"
   ]
  },
  {
   "cell_type": "markdown",
   "id": "395dd588",
   "metadata": {},
   "source": [
    "### As savings column has negative values so removing all the negative values"
   ]
  },
  {
   "cell_type": "code",
   "execution_count": 13,
   "id": "95e4f0ad",
   "metadata": {},
   "outputs": [],
   "source": [
    "data = df[df['savings']>0]"
   ]
  },
  {
   "cell_type": "code",
   "execution_count": 14,
   "id": "658cca30",
   "metadata": {},
   "outputs": [
    {
     "data": {
      "text/html": [
       "<div>\n",
       "<style scoped>\n",
       "    .dataframe tbody tr th:only-of-type {\n",
       "        vertical-align: middle;\n",
       "    }\n",
       "\n",
       "    .dataframe tbody tr th {\n",
       "        vertical-align: top;\n",
       "    }\n",
       "\n",
       "    .dataframe thead th {\n",
       "        text-align: right;\n",
       "    }\n",
       "</style>\n",
       "<table border=\"1\" class=\"dataframe\">\n",
       "  <thead>\n",
       "    <tr style=\"text-align: right;\">\n",
       "      <th></th>\n",
       "      <th>age</th>\n",
       "      <th>income</th>\n",
       "      <th>expenses</th>\n",
       "      <th>investment</th>\n",
       "      <th>savings</th>\n",
       "      <th>q1_answer</th>\n",
       "    </tr>\n",
       "  </thead>\n",
       "  <tbody>\n",
       "    <tr>\n",
       "      <th>0</th>\n",
       "      <td>41</td>\n",
       "      <td>360000</td>\n",
       "      <td>150000</td>\n",
       "      <td>0.0</td>\n",
       "      <td>210000</td>\n",
       "      <td>4</td>\n",
       "    </tr>\n",
       "    <tr>\n",
       "      <th>1</th>\n",
       "      <td>57</td>\n",
       "      <td>2750000</td>\n",
       "      <td>160000</td>\n",
       "      <td>40000000.0</td>\n",
       "      <td>2590000</td>\n",
       "      <td>3</td>\n",
       "    </tr>\n",
       "    <tr>\n",
       "      <th>2</th>\n",
       "      <td>50</td>\n",
       "      <td>420000</td>\n",
       "      <td>189000</td>\n",
       "      <td>7400000.0</td>\n",
       "      <td>231000</td>\n",
       "      <td>3</td>\n",
       "    </tr>\n",
       "    <tr>\n",
       "      <th>3</th>\n",
       "      <td>38</td>\n",
       "      <td>1140000</td>\n",
       "      <td>106500</td>\n",
       "      <td>1622000.0</td>\n",
       "      <td>1033500</td>\n",
       "      <td>4</td>\n",
       "    </tr>\n",
       "    <tr>\n",
       "      <th>4</th>\n",
       "      <td>39</td>\n",
       "      <td>380000</td>\n",
       "      <td>115500</td>\n",
       "      <td>0.0</td>\n",
       "      <td>264500</td>\n",
       "      <td>4</td>\n",
       "    </tr>\n",
       "    <tr>\n",
       "      <th>...</th>\n",
       "      <td>...</td>\n",
       "      <td>...</td>\n",
       "      <td>...</td>\n",
       "      <td>...</td>\n",
       "      <td>...</td>\n",
       "      <td>...</td>\n",
       "    </tr>\n",
       "    <tr>\n",
       "      <th>756</th>\n",
       "      <td>27</td>\n",
       "      <td>400000</td>\n",
       "      <td>10000</td>\n",
       "      <td>2500000.0</td>\n",
       "      <td>390000</td>\n",
       "      <td>4</td>\n",
       "    </tr>\n",
       "    <tr>\n",
       "      <th>757</th>\n",
       "      <td>22</td>\n",
       "      <td>32000</td>\n",
       "      <td>10000</td>\n",
       "      <td>0.0</td>\n",
       "      <td>22000</td>\n",
       "      <td>1</td>\n",
       "    </tr>\n",
       "    <tr>\n",
       "      <th>758</th>\n",
       "      <td>22</td>\n",
       "      <td>240000</td>\n",
       "      <td>35000</td>\n",
       "      <td>300000.0</td>\n",
       "      <td>205000</td>\n",
       "      <td>4</td>\n",
       "    </tr>\n",
       "    <tr>\n",
       "      <th>759</th>\n",
       "      <td>27</td>\n",
       "      <td>50000</td>\n",
       "      <td>10000</td>\n",
       "      <td>200000.0</td>\n",
       "      <td>40000</td>\n",
       "      <td>3</td>\n",
       "    </tr>\n",
       "    <tr>\n",
       "      <th>760</th>\n",
       "      <td>31</td>\n",
       "      <td>3000000</td>\n",
       "      <td>1020000</td>\n",
       "      <td>2000000.0</td>\n",
       "      <td>1980000</td>\n",
       "      <td>3</td>\n",
       "    </tr>\n",
       "  </tbody>\n",
       "</table>\n",
       "<p>719 rows × 6 columns</p>\n",
       "</div>"
      ],
      "text/plain": [
       "     age   income  expenses  investment  savings  q1_answer\n",
       "0     41   360000    150000         0.0   210000          4\n",
       "1     57  2750000    160000  40000000.0  2590000          3\n",
       "2     50   420000    189000   7400000.0   231000          3\n",
       "3     38  1140000    106500   1622000.0  1033500          4\n",
       "4     39   380000    115500         0.0   264500          4\n",
       "..   ...      ...       ...         ...      ...        ...\n",
       "756   27   400000     10000   2500000.0   390000          4\n",
       "757   22    32000     10000         0.0    22000          1\n",
       "758   22   240000     35000    300000.0   205000          4\n",
       "759   27    50000     10000    200000.0    40000          3\n",
       "760   31  3000000   1020000   2000000.0  1980000          3\n",
       "\n",
       "[719 rows x 6 columns]"
      ]
     },
     "execution_count": 14,
     "metadata": {},
     "output_type": "execute_result"
    }
   ],
   "source": [
    "data"
   ]
  },
  {
   "cell_type": "code",
   "execution_count": 15,
   "id": "2fa53dd7",
   "metadata": {},
   "outputs": [],
   "source": [
    "#In total, we have 1610 rows"
   ]
  },
  {
   "cell_type": "markdown",
   "id": "69cda7a0",
   "metadata": {},
   "source": [
    "### Converting all the riskcategory value = 6, to riskcategory value = 5"
   ]
  },
  {
   "cell_type": "code",
   "execution_count": 16,
   "id": "6125e40b",
   "metadata": {},
   "outputs": [],
   "source": [
    "data.rename(columns = {'q1_answer':'riskcategory'}, inplace=True)"
   ]
  },
  {
   "cell_type": "code",
   "execution_count": 17,
   "id": "3eedc146",
   "metadata": {},
   "outputs": [
    {
     "data": {
      "text/html": [
       "<div>\n",
       "<style scoped>\n",
       "    .dataframe tbody tr th:only-of-type {\n",
       "        vertical-align: middle;\n",
       "    }\n",
       "\n",
       "    .dataframe tbody tr th {\n",
       "        vertical-align: top;\n",
       "    }\n",
       "\n",
       "    .dataframe thead th {\n",
       "        text-align: right;\n",
       "    }\n",
       "</style>\n",
       "<table border=\"1\" class=\"dataframe\">\n",
       "  <thead>\n",
       "    <tr style=\"text-align: right;\">\n",
       "      <th></th>\n",
       "      <th>age</th>\n",
       "      <th>income</th>\n",
       "      <th>expenses</th>\n",
       "      <th>investment</th>\n",
       "      <th>savings</th>\n",
       "      <th>riskcategory</th>\n",
       "    </tr>\n",
       "  </thead>\n",
       "  <tbody>\n",
       "    <tr>\n",
       "      <th>94</th>\n",
       "      <td>30</td>\n",
       "      <td>62000</td>\n",
       "      <td>20000</td>\n",
       "      <td>5000.0</td>\n",
       "      <td>42000</td>\n",
       "      <td>6</td>\n",
       "    </tr>\n",
       "    <tr>\n",
       "      <th>95</th>\n",
       "      <td>37</td>\n",
       "      <td>140000</td>\n",
       "      <td>20000</td>\n",
       "      <td>400000.0</td>\n",
       "      <td>120000</td>\n",
       "      <td>6</td>\n",
       "    </tr>\n",
       "    <tr>\n",
       "      <th>100</th>\n",
       "      <td>33</td>\n",
       "      <td>1050000</td>\n",
       "      <td>186000</td>\n",
       "      <td>0.0</td>\n",
       "      <td>864000</td>\n",
       "      <td>6</td>\n",
       "    </tr>\n",
       "    <tr>\n",
       "      <th>119</th>\n",
       "      <td>33</td>\n",
       "      <td>268800</td>\n",
       "      <td>140000</td>\n",
       "      <td>0.0</td>\n",
       "      <td>128800</td>\n",
       "      <td>6</td>\n",
       "    </tr>\n",
       "    <tr>\n",
       "      <th>142</th>\n",
       "      <td>19</td>\n",
       "      <td>330000</td>\n",
       "      <td>50000</td>\n",
       "      <td>0.0</td>\n",
       "      <td>280000</td>\n",
       "      <td>6</td>\n",
       "    </tr>\n",
       "    <tr>\n",
       "      <th>...</th>\n",
       "      <td>...</td>\n",
       "      <td>...</td>\n",
       "      <td>...</td>\n",
       "      <td>...</td>\n",
       "      <td>...</td>\n",
       "      <td>...</td>\n",
       "    </tr>\n",
       "    <tr>\n",
       "      <th>736</th>\n",
       "      <td>25</td>\n",
       "      <td>480000</td>\n",
       "      <td>140000</td>\n",
       "      <td>0.0</td>\n",
       "      <td>340000</td>\n",
       "      <td>6</td>\n",
       "    </tr>\n",
       "    <tr>\n",
       "      <th>741</th>\n",
       "      <td>27</td>\n",
       "      <td>1800000</td>\n",
       "      <td>320000</td>\n",
       "      <td>15000.0</td>\n",
       "      <td>1480000</td>\n",
       "      <td>6</td>\n",
       "    </tr>\n",
       "    <tr>\n",
       "      <th>751</th>\n",
       "      <td>22</td>\n",
       "      <td>6304000</td>\n",
       "      <td>320000</td>\n",
       "      <td>44000.0</td>\n",
       "      <td>5984000</td>\n",
       "      <td>6</td>\n",
       "    </tr>\n",
       "    <tr>\n",
       "      <th>752</th>\n",
       "      <td>24</td>\n",
       "      <td>3600000</td>\n",
       "      <td>150000</td>\n",
       "      <td>60000.0</td>\n",
       "      <td>3450000</td>\n",
       "      <td>6</td>\n",
       "    </tr>\n",
       "    <tr>\n",
       "      <th>755</th>\n",
       "      <td>28</td>\n",
       "      <td>2232000</td>\n",
       "      <td>90000</td>\n",
       "      <td>25000.0</td>\n",
       "      <td>2142000</td>\n",
       "      <td>6</td>\n",
       "    </tr>\n",
       "  </tbody>\n",
       "</table>\n",
       "<p>98 rows × 6 columns</p>\n",
       "</div>"
      ],
      "text/plain": [
       "     age   income  expenses  investment  savings  riskcategory\n",
       "94    30    62000     20000      5000.0    42000             6\n",
       "95    37   140000     20000    400000.0   120000             6\n",
       "100   33  1050000    186000         0.0   864000             6\n",
       "119   33   268800    140000         0.0   128800             6\n",
       "142   19   330000     50000         0.0   280000             6\n",
       "..   ...      ...       ...         ...      ...           ...\n",
       "736   25   480000    140000         0.0   340000             6\n",
       "741   27  1800000    320000     15000.0  1480000             6\n",
       "751   22  6304000    320000     44000.0  5984000             6\n",
       "752   24  3600000    150000     60000.0  3450000             6\n",
       "755   28  2232000     90000     25000.0  2142000             6\n",
       "\n",
       "[98 rows x 6 columns]"
      ]
     },
     "execution_count": 17,
     "metadata": {},
     "output_type": "execute_result"
    }
   ],
   "source": [
    "data[data['riskcategory']==6]"
   ]
  },
  {
   "cell_type": "code",
   "execution_count": 18,
   "id": "141368ed",
   "metadata": {},
   "outputs": [],
   "source": [
    "#There are 98 rows need to be changed from 6 to 5"
   ]
  },
  {
   "cell_type": "code",
   "execution_count": 19,
   "id": "6308be66",
   "metadata": {},
   "outputs": [],
   "source": [
    "data['riskcategory'].mask(data['riskcategory'] == 6, 5, inplace=True)"
   ]
  },
  {
   "cell_type": "markdown",
   "id": "3ebc7fbb",
   "metadata": {},
   "source": [
    "## EDA"
   ]
  },
  {
   "cell_type": "code",
   "execution_count": 20,
   "id": "30cd4840",
   "metadata": {},
   "outputs": [
    {
     "data": {
      "text/plain": [
       "Text(0, 0.5, 'investment')"
      ]
     },
     "execution_count": 20,
     "metadata": {},
     "output_type": "execute_result"
    },
    {
     "data": {
      "image/png": "[encoded data removed]",
      "text/plain": [
       "<Figure size 3000x1000 with 1 Axes>"
      ]
     },
     "metadata": {},
     "output_type": "display_data"
    }
   ],
   "source": [
    "plt.subplots(figsize=(30, 10))\n",
    "sns.barplot(x='age',y='investment', data=data)\n",
    "plt.xlabel('age', fontsize=20)\n",
    "plt.ylabel('investment')"
   ]
  },
  {
   "cell_type": "markdown",
   "id": "a3e20a9b",
   "metadata": {},
   "source": [
    "#### Insight\n",
    "\n",
    "Between the age band of 47-52 and 58-61, there is high investment"
   ]
  },
  {
   "cell_type": "code",
   "execution_count": 21,
   "id": "592845b0",
   "metadata": {},
   "outputs": [
    {
     "data": {
      "text/plain": [
       "Text(0, 0.5, 'investment')"
      ]
     },
     "execution_count": 21,
     "metadata": {},
     "output_type": "execute_result"
    },
    {
     "data": {
      "image/png": "[encoded data removed]",
      "text/plain": [
       "<Figure size 500x200 with 1 Axes>"
      ]
     },
     "metadata": {},
     "output_type": "display_data"
    }
   ],
   "source": [
    "plt.subplots(figsize=(5, 2))\n",
    "sns.barplot(x='riskcategory',y='investment', data=data)\n",
    "plt.xlabel('riskcategory', fontsize=10)\n",
    "plt.ylabel('investment', fontsize=10)"
   ]
  },
  {
   "cell_type": "markdown",
   "id": "ed4ef0ab",
   "metadata": {},
   "source": [
    "#### Insight\n",
    "\n",
    "People have high investments tends to take higher risks"
   ]
  },
  {
   "cell_type": "code",
   "execution_count": 22,
   "id": "cdece884",
   "metadata": {},
   "outputs": [
    {
     "data": {
      "text/plain": [
       "Text(0, 0.5, 'savings')"
      ]
     },
     "execution_count": 22,
     "metadata": {},
     "output_type": "execute_result"
    },
    {
     "data": {
      "image/png": "[encoded data removed]",
      "text/plain": [
       "<Figure size 500x200 with 1 Axes>"
      ]
     },
     "metadata": {},
     "output_type": "display_data"
    }
   ],
   "source": [
    "plt.subplots(figsize=(5, 2))\n",
    "sns.barplot(x='riskcategory',y='savings', data=data)\n",
    "plt.xlabel('riskcategory')\n",
    "plt.ylabel('savings')"
   ]
  },
  {
   "cell_type": "markdown",
   "id": "53addd1f",
   "metadata": {},
   "source": [
    "#### Insight\n",
    "\n",
    "High risk taking categories have higher savings"
   ]
  },
  {
   "cell_type": "code",
   "execution_count": 23,
   "id": "7fffd591",
   "metadata": {},
   "outputs": [
    {
     "data": {
      "text/plain": [
       "3    244\n",
       "4    204\n",
       "5    139\n",
       "2    108\n",
       "1     24\n",
       "Name: riskcategory, dtype: int64"
      ]
     },
     "execution_count": 23,
     "metadata": {},
     "output_type": "execute_result"
    }
   ],
   "source": [
    "data.riskcategory.value_counts()"
   ]
  },
  {
   "cell_type": "code",
   "execution_count": 24,
   "id": "7c372199",
   "metadata": {},
   "outputs": [
    {
     "data": {
      "text/plain": [
       "Text(0, 0.5, 'savings')"
      ]
     },
     "execution_count": 24,
     "metadata": {},
     "output_type": "execute_result"
    },
    {
     "data": {
      "image/png": "[encoded data removed]",
      "text/plain": [
       "<Figure size 3000x1000 with 1 Axes>"
      ]
     },
     "metadata": {},
     "output_type": "display_data"
    }
   ],
   "source": [
    "plt.subplots(figsize=(30, 10))\n",
    "sns.barplot(x='age',y='savings', data=data)\n",
    "plt.xlabel('age', fontsize=20)\n",
    "plt.ylabel('savings')"
   ]
  },
  {
   "cell_type": "markdown",
   "id": "f4270809",
   "metadata": {},
   "source": [
    "#### Insight\n",
    "\n",
    "Age band from 28-30 and people of age 47 have higher savings"
   ]
  },
  {
   "cell_type": "markdown",
   "id": "1ef22740",
   "metadata": {},
   "source": [
    "### Outlier detection and treatment"
   ]
  },
  {
   "cell_type": "code",
   "execution_count": 25,
   "id": "22e9aa92",
   "metadata": {},
   "outputs": [
    {
     "data": {
      "image/png": "[encoded data removed]",
      "text/plain": [
       "<Figure size 640x480 with 1 Axes>"
      ]
     },
     "metadata": {},
     "output_type": "display_data"
    }
   ],
   "source": [
    "plt.boxplot(data['age'])\n",
    "plt.show()"
   ]
  },
  {
   "cell_type": "markdown",
   "id": "a181da7e",
   "metadata": {},
   "source": [
    "#### Insight\n",
    "\n",
    "There are no outliers in age column"
   ]
  },
  {
   "cell_type": "code",
   "execution_count": 26,
   "id": "44284d8d",
   "metadata": {},
   "outputs": [
    {
     "data": {
      "image/png": "[encoded data removed]",
      "text/plain": [
       "<Figure size 640x480 with 1 Axes>"
      ]
     },
     "metadata": {},
     "output_type": "display_data"
    }
   ],
   "source": [
    "plt.boxplot(data['investment'])\n",
    "plt.show()"
   ]
  },
  {
   "cell_type": "code",
   "execution_count": 27,
   "id": "ded4898b",
   "metadata": {},
   "outputs": [],
   "source": [
    "data.drop(data[data['investment'] > 49247980212.0].index, inplace=True)"
   ]
  },
  {
   "cell_type": "code",
   "execution_count": 28,
   "id": "24d4290c",
   "metadata": {},
   "outputs": [
    {
     "data": {
      "image/png": "[encoded data removed]",
      "text/plain": [
       "<Figure size 640x480 with 1 Axes>"
      ]
     },
     "metadata": {},
     "output_type": "display_data"
    }
   ],
   "source": [
    "plt.boxplot(data['investment'])\n",
    "plt.show()"
   ]
  },
  {
   "cell_type": "code",
   "execution_count": 29,
   "id": "a62d3622",
   "metadata": {},
   "outputs": [
    {
     "data": {
      "image/png": "[encoded data removed]",
      "text/plain": [
       "<Figure size 640x480 with 1 Axes>"
      ]
     },
     "metadata": {},
     "output_type": "display_data"
    }
   ],
   "source": [
    "plt.boxplot(data['savings'])\n",
    "plt.show()"
   ]
  },
  {
   "cell_type": "code",
   "execution_count": 30,
   "id": "daf6681a",
   "metadata": {},
   "outputs": [],
   "source": [
    "data.drop(data[data['savings'] >= 146003694844].index, inplace=True)\n"
   ]
  },
  {
   "cell_type": "code",
   "execution_count": 31,
   "id": "74c9ee8b",
   "metadata": {},
   "outputs": [
    {
     "data": {
      "image/png": "[encoded data removed]",
      "text/plain": [
       "<Figure size 640x480 with 1 Axes>"
      ]
     },
     "metadata": {},
     "output_type": "display_data"
    }
   ],
   "source": [
    "plt.boxplot(data['savings'])\n",
    "plt.show()"
   ]
  },
  {
   "cell_type": "code",
   "execution_count": 32,
   "id": "7692474f",
   "metadata": {},
   "outputs": [],
   "source": [
    "data.drop(data[data['expenses'] < 7].index, inplace = True)"
   ]
  },
  {
   "cell_type": "markdown",
   "id": "49904739",
   "metadata": {},
   "source": [
    "#### In expenses column we have one outlier before minimum in box plot, removing the outlier"
   ]
  },
  {
   "cell_type": "code",
   "execution_count": 33,
   "id": "786d386c",
   "metadata": {},
   "outputs": [
    {
     "data": {
      "image/png": "[encoded data removed]",
      "text/plain": [
       "<Figure size 640x480 with 1 Axes>"
      ]
     },
     "metadata": {},
     "output_type": "display_data"
    }
   ],
   "source": [
    "plt.boxplot(data['expenses'])\n",
    "plt.show()"
   ]
  },
  {
   "cell_type": "code",
   "execution_count": 34,
   "id": "93d73730",
   "metadata": {},
   "outputs": [],
   "source": [
    "data.drop(data[data['expenses'] >= 15582336000].index, inplace=True)\n"
   ]
  },
  {
   "cell_type": "code",
   "execution_count": 35,
   "id": "00551186",
   "metadata": {},
   "outputs": [
    {
     "data": {
      "image/png": "[encoded data removed]",
      "text/plain": [
       "<Figure size 640x480 with 1 Axes>"
      ]
     },
     "metadata": {},
     "output_type": "display_data"
    }
   ],
   "source": [
    "plt.boxplot(data['expenses'])\n",
    "plt.show()"
   ]
  },
  {
   "cell_type": "code",
   "execution_count": 36,
   "id": "fbd6b9f2",
   "metadata": {},
   "outputs": [
    {
     "data": {
      "image/png": "[encoded data removed]",
      "text/plain": [
       "<Figure size 640x480 with 1 Axes>"
      ]
     },
     "metadata": {},
     "output_type": "display_data"
    }
   ],
   "source": [
    "plt.boxplot(data['income'])\n",
    "plt.show()"
   ]
  },
  {
   "cell_type": "code",
   "execution_count": 37,
   "id": "870aeccf",
   "metadata": {},
   "outputs": [],
   "source": [
    "data.drop(data[data['income'] > 658707518219].index, inplace=True)"
   ]
  },
  {
   "cell_type": "code",
   "execution_count": 38,
   "id": "0a918ac5",
   "metadata": {},
   "outputs": [],
   "source": [
    "data.to_csv('/home/khusboos/Downloads/risk_appetite_data.csv' , index=None)"
   ]
  },
  {
   "cell_type": "code",
   "execution_count": null,
   "id": "7d14ceae",
   "metadata": {},
   "outputs": [],
   "source": []
  },
  {
   "cell_type": "code",
   "execution_count": null,
   "id": "71ab54f1",
   "metadata": {},
   "outputs": [],
   "source": []
  }
 ],
 "metadata": {
  "kernelspec": {
   "display_name": "Python 3 (ipykernel)",
   "language": "python",
   "name": "python3"
  },
  "language_info": {
   "codemirror_mode": {
    "name": "ipython",
    "version": 3
   },
   "file_extension": ".py",
   "mimetype": "text/x-python",
   "name": "python",
   "nbconvert_exporter": "python",
   "pygments_lexer": "ipython3",
   "version": "3.10.9"
  }
 },
 "nbformat": 4,
 "nbformat_minor": 5
}
