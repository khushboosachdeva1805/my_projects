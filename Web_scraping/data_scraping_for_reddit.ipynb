{
 "cells": [
  {
   "cell_type": "markdown",
   "id": "5238a235",
   "metadata": {},
   "source": [
    "In this data scraping for reddit we have collected subreddit name, post title and its comments."
   ]
  },
  {
   "cell_type": "code",
   "execution_count": 1,
   "id": "d7ba26dd",
   "metadata": {},
   "outputs": [
    {
     "name": "stdout",
     "output_type": "stream",
     "text": [
      "        Subreddit                                         Post Title  \\\n",
      "0          stocks  Rate My Portfolio - r/Stocks Quarterly Thread ...   \n",
      "1          stocks  Rate My Portfolio - r/Stocks Quarterly Thread ...   \n",
      "2          stocks  Rate My Portfolio - r/Stocks Quarterly Thread ...   \n",
      "3          stocks  Rate My Portfolio - r/Stocks Quarterly Thread ...   \n",
      "4          stocks  Rate My Portfolio - r/Stocks Quarterly Thread ...   \n",
      "...           ...                                                ...   \n",
      "3225  StockMarket  Ford is testing a rather important longer-term...   \n",
      "3226  StockMarket  Ford is testing a rather important longer-term...   \n",
      "3227  StockMarket  Ford is testing a rather important longer-term...   \n",
      "3228  StockMarket  Ford is testing a rather important longer-term...   \n",
      "3229  StockMarket  Ford is testing a rather important longer-term...   \n",
      "\n",
      "                                                Comment  \\\n",
      "0     ABBV- AbbVie Inc\\n\\nAPD- Air Products & Chemic...   \n",
      "1     Let me know what you think about my portfolio....   \n",
      "2     22% NVDA (this was a lot lower before the mass...   \n",
      "3     12.86% DAC (Cost Basis $65.19)\\n\\n12.08% BABA ...   \n",
      "4                             COOKIES: 50%\\n\\nMILK: 50%   \n",
      "...                                                 ...   \n",
      "3225  I'm seeing that as well but the labor negotiat...   \n",
      "3226  I’m waiting for that trend line to break and k...   \n",
      "3227  I just feel like ford is a shit stock. Sure it...   \n",
      "3228  I would argue you had the breakout around May ...   \n",
      "3229                                                NaN   \n",
      "\n",
      "                                           Post Content  \n",
      "0                                                   NaN  \n",
      "1                                                   NaN  \n",
      "2                                                   NaN  \n",
      "3                                                   NaN  \n",
      "4                                                   NaN  \n",
      "...                                                 ...  \n",
      "3225                                                NaN  \n",
      "3226                                                NaN  \n",
      "3227                                                NaN  \n",
      "3228                                                NaN  \n",
      "3229  F is re-testing a multi-year trendline that tr...  \n",
      "\n",
      "[3230 rows x 4 columns]\n"
     ]
    }
   ],
   "source": [
    "###Data scraping for reddit\n",
    "\n",
    "import praw\n",
    "import pandas as pd\n",
    "from textblob import TextBlob\n",
    "\n",
    "# Set up Reddit API credentials\n",
    "reddit_client_id = 'QXQJdC8RqKnCngqQ5At7ug'\n",
    "reddit_client_secret = 'hhDtRkOy9Wy8hbIXUfyPu776CLf89A'\n",
    "reddit_user_agent = 'MyCoolApp/1.0 (Linux; Ubuntu; Python/3.9)'\n",
    "reddit_username = 'khushboo1234sachdeva'\n",
    "reddit_password = 'Khushboo@18051998'\n",
    "\n",
    "\n",
    "# Authenticate with Reddit API\n",
    "reddit = praw.Reddit(client_id=reddit_client_id,\n",
    "                     client_secret=reddit_client_secret,\n",
    "                     user_agent=reddit_user_agent,\n",
    "                     username=reddit_username,\n",
    "                     password=reddit_password)\n",
    "\n",
    "# List of stock-related subreddit names\n",
    "stock_subreddits = ['stocks', 'investing', 'StockMarket']\n",
    "\n",
    "# Create an empty list to store the data\n",
    "data = []\n",
    "\n",
    "# Fetch posts and comments from Reddit and store in the data list\n",
    "for subreddit_name in stock_subreddits:\n",
    "    subreddit = reddit.subreddit(subreddit_name)\n",
    "    hot_posts = subreddit.hot(limit=10)  # Fetching top 10 hot posts\n",
    "\n",
    "    for post in hot_posts:\n",
    "        post_data = {\n",
    "            'Subreddit': subreddit_name,\n",
    "            'Post Title': post.title,\n",
    "            'Post Content': post.selftext\n",
    "        }\n",
    "\n",
    "        post.comments.replace_more(limit=None)  # Replace \"More Comments\" with actual comments\n",
    "        comments = post.comments.list()\n",
    "        for comment in comments:\n",
    "            comment_data = {\n",
    "                'Subreddit': subreddit_name,\n",
    "                'Post Title': post.title,\n",
    "                'Comment': comment.body\n",
    "            }\n",
    "            data.append(comment_data)\n",
    "\n",
    "        data.append(post_data)\n",
    "\n",
    "# Create a DataFrame from the data list\n",
    "df = pd.DataFrame(data)\n",
    "\n",
    "# Display the DataFrame\n",
    "print(df)\n"
   ]
  },
  {
   "cell_type": "code",
   "execution_count": 2,
   "id": "5854fb62",
   "metadata": {},
   "outputs": [],
   "source": [
    "df.to_csv('reddit_final.csv', index=False)"
   ]
  },
  {
   "cell_type": "code",
   "execution_count": null,
   "id": "78c07c32",
   "metadata": {},
   "outputs": [],
   "source": []
  },
  {
   "cell_type": "code",
   "execution_count": 6,
   "id": "22b6c492",
   "metadata": {},
   "outputs": [],
   "source": []
  },
  {
   "cell_type": "code",
   "execution_count": null,
   "id": "59ae9d3b",
   "metadata": {},
   "outputs": [],
   "source": []
  }
 ],
 "metadata": {
  "kernelspec": {
   "display_name": "Python 3 (ipykernel)",
   "language": "python",
   "name": "python3"
  },
  "language_info": {
   "codemirror_mode": {
    "name": "ipython",
    "version": 3
   },
   "file_extension": ".py",
   "mimetype": "text/x-python",
   "name": "python",
   "nbconvert_exporter": "python",
   "pygments_lexer": "ipython3",
   "version": "3.10.9"
  }
 },
 "nbformat": 4,
 "nbformat_minor": 5
}
