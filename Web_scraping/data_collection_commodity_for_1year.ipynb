{
 "cells": [
  {
   "cell_type": "markdown",
   "id": "d993ec30",
   "metadata": {},
   "source": [
    "## GOLD"
   ]
  },
  {
   "cell_type": "code",
   "execution_count": 3,
   "id": "adc5f006",
   "metadata": {},
   "outputs": [
    {
     "name": "stdout",
     "output_type": "stream",
     "text": [
      "                                  High          Low        Close  Volume\n",
      "Date                                                                    \n",
      "2022-10-31 00:00:00-04:00  1641.800049  1633.400024  1635.900024     522\n",
      "2022-11-01 00:00:00-04:00  1653.699951  1630.800049  1645.000000     985\n",
      "2022-11-02 00:00:00-04:00  1664.699951  1634.000000  1645.699951     612\n",
      "2022-11-03 00:00:00-04:00  1629.199951  1615.099976  1627.300049    1427\n",
      "2022-11-04 00:00:00-04:00  1674.500000  1629.000000  1672.500000     159\n",
      "...                                ...          ...          ...     ...\n",
      "2023-10-24 00:00:00-04:00  1975.000000  1970.300049  1975.000000      10\n",
      "2023-10-25 00:00:00-04:00  1985.300049  1971.199951  1984.099976      97\n",
      "2023-10-26 00:00:00-04:00  1988.199951  1980.400024  1987.199951     521\n",
      "2023-10-27 00:00:00-04:00  1988.599976  1988.599976  1988.599976     521\n",
      "2023-10-30 00:00:00-04:00  2016.800049  1999.699951  2004.199951   64877\n",
      "\n",
      "[251 rows x 4 columns]\n"
     ]
    }
   ],
   "source": [
    "import yfinance as yf\n",
    "import pandas as pd\n",
    "\n",
    "# Define the ticker symbol for gold\n",
    "ticker_symbol = \"GC=F\"\n",
    "\n",
    "# Create a Yahoo Finance ticker object\n",
    "ticker = yf.Ticker(ticker_symbol)\n",
    "\n",
    "# Fetch historical data for the last year\n",
    "gold_data = ticker.history(period=\"1y\")\n",
    "\n",
    "# Select and print the desired columns\n",
    "gold_data = gold_data[['High', 'Low', 'Close', 'Volume']]\n",
    "print(gold_data)"
   ]
  },
  {
   "cell_type": "markdown",
   "id": "71b8ee73",
   "metadata": {},
   "source": [
    "## SILVER"
   ]
  },
  {
   "cell_type": "code",
   "execution_count": 4,
   "id": "809d49e2",
   "metadata": {},
   "outputs": [
    {
     "name": "stdout",
     "output_type": "stream",
     "text": [
      "                                High        Low      Close  Volume\n",
      "Date                                                              \n",
      "2022-10-31 00:00:00-04:00  19.200001  18.969999  19.125000       8\n",
      "2022-11-01 00:00:00-04:00  19.690001  19.125000  19.673000      18\n",
      "2022-11-02 00:00:00-04:00  19.865000  19.575001  19.600000      21\n",
      "2022-11-03 00:00:00-04:00  19.436001  18.959999  19.436001      20\n",
      "2022-11-04 00:00:00-04:00  20.934999  19.950001  20.790001      51\n",
      "...                              ...        ...        ...     ...\n",
      "2023-10-24 00:00:00-04:00  22.980000  22.850000  22.980000       2\n",
      "2023-10-25 00:00:00-04:00  22.877001  22.580000  22.877001       6\n",
      "2023-10-26 00:00:00-04:00  22.990000  22.787001  22.787001      14\n",
      "2023-10-27 00:00:00-04:00  22.770000  22.770000  22.770000      14\n",
      "2023-10-30 00:00:00-04:00  23.355000  23.135000  23.309999   12739\n",
      "\n",
      "[251 rows x 4 columns]\n"
     ]
    }
   ],
   "source": [
    "# Define the ticker symbol for gold\n",
    "ticker_symbol = \"SI=F\"\n",
    "\n",
    "# Create a Yahoo Finance ticker object\n",
    "ticker = yf.Ticker(ticker_symbol)\n",
    "\n",
    "# Fetch historical data for the last year\n",
    "silver_data = ticker.history(period=\"1y\")\n",
    "\n",
    "# Select and print the desired columns\n",
    "silver_data = silver_data[['High', 'Low', 'Close', 'Volume']]\n",
    "print(silver_data)"
   ]
  },
  {
   "cell_type": "markdown",
   "id": "c4023932",
   "metadata": {},
   "source": [
    "## BRENT CRUDE OIL"
   ]
  },
  {
   "cell_type": "code",
   "execution_count": 5,
   "id": "38ed963e",
   "metadata": {},
   "outputs": [
    {
     "name": "stdout",
     "output_type": "stream",
     "text": [
      "                                High        Low      Close  Volume\n",
      "Date                                                              \n",
      "2022-10-31 00:00:00-04:00  96.000000  94.320000  94.830002   23096\n",
      "2022-11-01 00:00:00-04:00  95.550003  92.360001  94.650002   21355\n",
      "2022-11-02 00:00:00-04:00  96.470001  93.989998  96.160004   28689\n",
      "2022-11-03 00:00:00-04:00  95.940002  94.160004  94.669998   21292\n",
      "2022-11-04 00:00:00-04:00  98.820000  94.339996  98.570000   31256\n",
      "...                              ...        ...        ...     ...\n",
      "2023-10-24 00:00:00-04:00  90.669998  87.349998  88.070000   42436\n",
      "2023-10-25 00:00:00-04:00  90.339996  86.669998  90.129997   47506\n",
      "2023-10-26 00:00:00-04:00  90.360001  87.550003  87.930000   22662\n",
      "2023-10-27 00:00:00-04:00  90.739998  87.839996  90.480003   22662\n",
      "2023-10-30 00:00:00-04:00  90.300003  88.809998  89.500000    1747\n",
      "\n",
      "[251 rows x 4 columns]\n"
     ]
    }
   ],
   "source": [
    "# Define the ticker symbol for gold\n",
    "ticker_symbol = \"BZ=F\"\n",
    "\n",
    "# Create a Yahoo Finance ticker object\n",
    "ticker = yf.Ticker(ticker_symbol)\n",
    "\n",
    "# Fetch historical data for the last year\n",
    "brent_crude_oil_data = ticker.history(period=\"1y\")\n",
    "\n",
    "brent_crude_oil_data = brent_crude_oil_data[['High', 'Low', 'Close', 'Volume']]\n",
    "\n",
    "# Print the data\n",
    "print(brent_crude_oil_data)"
   ]
  },
  {
   "cell_type": "code",
   "execution_count": null,
   "id": "4712795e",
   "metadata": {},
   "outputs": [],
   "source": []
  }
 ],
 "metadata": {
  "kernelspec": {
   "display_name": "Python 3 (ipykernel)",
   "language": "python",
   "name": "python3"
  },
  "language_info": {
   "codemirror_mode": {
    "name": "ipython",
    "version": 3
   },
   "file_extension": ".py",
   "mimetype": "text/x-python",
   "name": "python",
   "nbconvert_exporter": "python",
   "pygments_lexer": "ipython3",
   "version": "3.10.9"
  }
 },
 "nbformat": 4,
 "nbformat_minor": 5
}
