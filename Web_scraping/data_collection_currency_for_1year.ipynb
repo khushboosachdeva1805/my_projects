{
 "cells": [
  {
   "cell_type": "code",
   "execution_count": 15,
   "id": "a3f07b29",
   "metadata": {},
   "outputs": [],
   "source": [
    "import yfinance as yf"
   ]
  },
  {
   "cell_type": "code",
   "execution_count": 21,
   "id": "89710622",
   "metadata": {},
   "outputs": [
    {
     "name": "stdout",
     "output_type": "stream",
     "text": [
      "[*********************100%***********************]  1 of 1 completed\n",
      "                Open      High       Low     Close  Adj Close  Volume\n",
      "Date                                                                 \n",
      "2022-10-26  0.996373  1.008054  0.994461  0.996373   0.996373       0\n",
      "2022-10-27  1.009194  1.009489  0.997646  1.009194   1.009194       0\n",
      "2022-10-28  0.996780  0.999900  0.993147  0.996780   0.996780       0\n",
      "2022-10-31  0.995500  0.996810  0.987352  0.995500   0.995500       0\n",
      "2022-11-01  0.988631  0.995163  0.986213  0.988631   0.988631       0\n",
      "...              ...       ...       ...       ...        ...     ...\n",
      "2023-10-20  1.058649  1.060108  1.056580  1.058649   1.058649       0\n",
      "2023-10-23  1.058997  1.064736  1.057183  1.058997   1.058997       0\n",
      "2023-10-24  1.066985  1.069050  1.058425  1.066985   1.066985       0\n",
      "2023-10-25  1.059535  1.060670  1.056680  1.059535   1.059535       0\n",
      "2023-10-26  1.056971  1.057194  1.053630  1.054852   1.054852       0\n",
      "\n",
      "[262 rows x 6 columns]\n"
     ]
    }
   ],
   "source": [
    "#EURUSD\n",
    "\n",
    "# Define the currency pair symbol (USD to EUR in this example)\n",
    "currency_pair = \"EURUSD=X\" \n",
    "\n",
    "# Fetch historical data for a one-year time period using \"1y\" period\n",
    "data = yf.download(currency_pair, period=\"1y\")\n",
    "\n",
    "print( data)"
   ]
  },
  {
   "cell_type": "code",
   "execution_count": 13,
   "id": "58271c03",
   "metadata": {},
   "outputs": [
    {
     "name": "stdout",
     "output_type": "stream",
     "text": [
      "[*********************100%***********************]  1 of 1 completed\n",
      "                  Open        High         Low       Close   Adj Close  Volume\n",
      "Date                                                                          \n",
      "2022-10-26   94.456802   95.302994   94.321007   94.456802   94.456802       0\n",
      "2022-10-27   95.339836   95.971954   95.177956   95.339836   95.339836       0\n",
      "2022-10-28   95.286308   95.662216   94.879395   95.286308   95.286308       0\n",
      "2022-10-31   95.361420   95.873634   95.075554   95.536354   95.536354       0\n",
      "2022-11-01   94.862259   95.754875   94.588951   94.862259   94.862259       0\n",
      "...                ...         ...         ...         ...         ...     ...\n",
      "2023-10-20  100.945938  101.108879  100.514786  100.945938  100.945938       0\n",
      "2023-10-23  101.157181  101.676506  100.938835  101.157181  101.157181       0\n",
      "2023-10-24  101.705551  101.988991  100.970879  101.708626  101.708626       0\n",
      "2023-10-25  100.929764  101.197006  100.759544  100.935066  100.935066       0\n",
      "2023-10-26  100.631302  100.631302  100.406303  100.494499  100.494499       0\n",
      "\n",
      "[262 rows x 6 columns]\n"
     ]
    }
   ],
   "source": [
    "#GBPINR\n",
    "\n",
    "# Define the currency pair symbol (GBP to INR in this example)\n",
    "currency_pair = \"GBPINR=X\"\n",
    "\n",
    "# Fetch historical data for a one-year time period using \"1y\" period\n",
    "data = yf.download(currency_pair, period=\"1y\")\n",
    "\n",
    "print(data)"
   ]
  },
  {
   "cell_type": "code",
   "execution_count": 12,
   "id": "937998ed",
   "metadata": {},
   "outputs": [
    {
     "name": "stdout",
     "output_type": "stream",
     "text": [
      "[*********************100%***********************]  1 of 1 completed\n",
      "                 Open       High        Low      Close  Adj Close  Volume\n",
      "Date                                                                     \n",
      "2022-10-26  82.059998  82.740997  81.958000  82.059998  82.059998       0\n",
      "2022-10-27  82.585999  82.902000  82.072998  82.601997  82.601997       0\n",
      "2022-10-28  82.049004  82.296997  81.707001  82.056999  82.056999       0\n",
      "2022-10-31  81.355003  82.286003  81.355003  81.910004  81.910004       0\n",
      "2022-11-01  81.760002  82.121002  81.450996  81.755997  81.755997       0\n",
      "...               ...        ...        ...        ...        ...     ...\n",
      "2023-10-20  87.910004  88.037003  87.690002  87.901001  87.901001       0\n",
      "2023-10-23  86.986702  88.379997  86.986702  88.042000  88.042000       0\n",
      "2023-10-24  88.484001  88.699997  87.810997  88.484001  88.484001       0\n",
      "2023-10-25  87.858002  88.079002  85.970001  87.858002  87.858002       0\n",
      "2023-10-26  87.859703  87.875504  87.690201  87.736801  87.736801       0\n",
      "\n",
      "[262 rows x 6 columns]\n"
     ]
    }
   ],
   "source": [
    "#EURINR\n",
    "\n",
    "# Define the currency pair symbol (EUR to INR in this example)\n",
    "currency_pair = \"EURINR=X\"\n",
    "\n",
    "# Fetch historical data for a one-year time period using \"1y\" period\n",
    "data = yf.download(currency_pair, period=\"1y\")\n",
    "\n",
    "print(data)"
   ]
  },
  {
   "cell_type": "code",
   "execution_count": 11,
   "id": "660388c6",
   "metadata": {},
   "outputs": [
    {
     "name": "stdout",
     "output_type": "stream",
     "text": [
      "[*********************100%***********************]  1 of 1 completed\n",
      "                  Open        High         Low       Close   Adj Close  Volume\n",
      "Date                                                                          \n",
      "2022-10-26  147.979996  148.403000  146.408997  147.979996  147.979996       0\n",
      "2022-10-27  146.134003  146.860992  145.156006  146.134003  146.134003       0\n",
      "2022-10-28  146.274002  147.848007  146.028000  146.274002  146.274002       0\n",
      "2022-10-31  147.811996  148.841995  147.750000  147.811996  147.811996       0\n",
      "2022-11-01  148.737000  148.807007  146.990997  148.737000  148.737000       0\n",
      "...                ...         ...         ...         ...         ...     ...\n",
      "2023-10-20  149.802002  149.992004  149.804993  149.802002  149.802002       0\n",
      "2023-10-23  149.880005  149.988998  149.742004  149.880005  149.880005       0\n",
      "2023-10-24  149.768997  149.917999  149.335007  149.768997  149.768997       0\n",
      "2023-10-25  149.854004  149.970001  149.794998  149.854004  149.854004       0\n",
      "2023-10-26  150.104996  150.653000  150.035995  150.634003  150.634003       0\n",
      "\n",
      "[262 rows x 6 columns]\n"
     ]
    }
   ],
   "source": [
    "#USDJPY\n",
    "\n",
    "# Define the currency pair symbol (USD to JPY in this example)\n",
    "currency_pair = \"JPY=X\"\n",
    "\n",
    "# Fetch historical data for a one-year time period using \"1y\" period\n",
    "data = yf.download(currency_pair, period=\"1y\")\n",
    "\n",
    "print(data)"
   ]
  },
  {
   "cell_type": "code",
   "execution_count": 10,
   "id": "099a9646",
   "metadata": {},
   "outputs": [
    {
     "name": "stdout",
     "output_type": "stream",
     "text": [
      "[*********************100%***********************]  1 of 1 completed\n",
      "                 Open       High        Low      Close  Adj Close  Volume\n",
      "Date                                                                     \n",
      "2022-10-26  82.445297  82.550598  81.924202  82.445297  82.445297       0\n",
      "2022-10-27  82.049599  82.706497  81.928299  82.049599  82.049599       0\n",
      "2022-10-28  82.442497  82.781303  82.278000  82.442497  82.442497       0\n",
      "2022-10-31  82.239197  83.123001  82.193001  82.239197  82.239197       0\n",
      "2022-11-01  82.728996  83.070801  82.503502  82.728996  82.728996       0\n",
      "...               ...        ...        ...        ...        ...     ...\n",
      "2023-10-20  83.122299  83.196198  83.018997  83.122299  83.122299       0\n",
      "2023-10-23  83.159798  83.190399  83.040497  83.159798  83.159798       0\n",
      "2023-10-24  83.029404  83.094299  82.947899  83.029404  83.029404       0\n",
      "2023-10-25  82.987801  83.187302  81.205002  82.987801  82.987801       0\n",
      "2023-10-26  83.115997  83.250000  83.096001  83.245003  83.245003       0\n",
      "\n",
      "[262 rows x 6 columns]\n"
     ]
    }
   ],
   "source": [
    "#USDINR\n",
    "\n",
    "# Define the currency pair symbol (USD to INR)\n",
    "currency_pair = \"INR=X\"\n",
    "\n",
    "# Fetch historical data for a one-year time period using \"1y\" period\n",
    "data = yf.download(currency_pair, period=\"1y\")\n",
    "\n",
    "print(data)"
   ]
  },
  {
   "cell_type": "code",
   "execution_count": 19,
   "id": "d4378010",
   "metadata": {},
   "outputs": [
    {
     "name": "stdout",
     "output_type": "stream",
     "text": [
      "[*********************100%***********************]  1 of 1 completed\n",
      "                Open      High       Low     Close  Adj Close  Volume\n",
      "Date                                                                 \n",
      "2022-10-26  0.556728  0.561188  0.555401  0.556535   0.556535       0\n",
      "2022-10-27  0.560116  0.566599  0.559597  0.560095   0.560095       0\n",
      "2022-10-28  0.562750  0.563171  0.556858  0.562621   0.562621       0\n",
      "2022-10-31  0.555955  0.558047  0.555528  0.557244   0.557244       0\n",
      "2022-11-01  0.556064  0.561509  0.555718  0.556079   0.556079       0\n",
      "...              ...       ...       ...       ...        ...     ...\n",
      "2023-10-20  0.554361  0.554911  0.553345  0.554287   0.554287       0\n",
      "2023-10-23  0.553993  0.554345  0.553860  0.547386   0.547386       0\n",
      "2023-10-24  0.554125  0.555324  0.553273  0.553830   0.553830       0\n",
      "2023-10-25  0.553386  0.554443  0.553254  0.553410   0.553410       0\n",
      "2023-10-26  0.553420  0.553830  0.551880  0.553000   0.553000       0\n",
      "\n",
      "[262 rows x 6 columns]\n"
     ]
    }
   ],
   "source": [
    "#JPYINR\n",
    "\n",
    "# Define the currency pair symbol (JPY to INR)\n",
    "currency_pair = \"JPYINR=X\"\n",
    "\n",
    "# Fetch historical data for a one-year time period using \"1y\" period\n",
    "data = yf.download(currency_pair, period=\"1y\")\n",
    "\n",
    "print(data)"
   ]
  },
  {
   "cell_type": "code",
   "execution_count": null,
   "id": "4114d04f",
   "metadata": {},
   "outputs": [],
   "source": []
  }
 ],
 "metadata": {
  "kernelspec": {
   "display_name": "Python 3 (ipykernel)",
   "language": "python",
   "name": "python3"
  },
  "language_info": {
   "codemirror_mode": {
    "name": "ipython",
    "version": 3
   },
   "file_extension": ".py",
   "mimetype": "text/x-python",
   "name": "python",
   "nbconvert_exporter": "python",
   "pygments_lexer": "ipython3",
   "version": "3.10.9"
  }
 },
 "nbformat": 4,
 "nbformat_minor": 5
}
