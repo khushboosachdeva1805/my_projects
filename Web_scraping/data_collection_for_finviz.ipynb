{
 "cells": [
  {
   "cell_type": "markdown",
   "id": "922ac7e1",
   "metadata": {},
   "source": [
    "Finviz is used to collect news headlines"
   ]
  },
  {
   "cell_type": "code",
   "execution_count": 1,
   "id": "7b59f6ac",
   "metadata": {},
   "outputs": [
    {
     "name": "stdout",
     "output_type": "stream",
     "text": [
      "    ticker date               time  \\\n",
      "0     AMZN           Today 03:52AM   \n",
      "1     AMZN       Dec-11-23 09:43PM   \n",
      "2     AMZN                 06:32PM   \n",
      "3     AMZN                 05:25PM   \n",
      "4     AMZN                 05:12PM   \n",
      "..     ...  ...                ...   \n",
      "195   INFY       Jul-07-23 11:23AM   \n",
      "196   INFY       Jul-06-23 12:05PM   \n",
      "197   INFY                 09:31AM   \n",
      "198   INFY       Jul-05-23 09:50AM   \n",
      "199   INFY       Jun-28-23 11:17AM   \n",
      "\n",
      "                                                 title  \n",
      "0    20 States With the Highest Rates of SNAP Recip...  \n",
      "1    Shoppers Spend Almost Twice as Long on Temu Ap...  \n",
      "2    Wayfair Stock Prospects Rise. Can It Hold Rece...  \n",
      "3    The Companies Conducting Layoffs in 2023: Here...  \n",
      "4    Could there be more media mergers & acquisitio...  \n",
      "..                                                 ...  \n",
      "195  Infosys (INFY) Public Services Opens New Offic...  \n",
      "196  Infosys (INFY) Launches Metaverse Museum Exper...  \n",
      "197          Infosys Public Services Expands in Canada  \n",
      "198  International Tennis Hall of Fame and Infosys ...  \n",
      "199  Infosys (INFY) to Accelerate Danske Bank's Dig...  \n",
      "\n",
      "[200 rows x 4 columns]\n"
     ]
    }
   ],
   "source": [
    "###final code for more than one stocks in finviz.com\n",
    "\n",
    "import pandas as pd\n",
    "from urllib.request import Request, urlopen\n",
    "from bs4 import BeautifulSoup\n",
    "\n",
    "finviz_url = 'https://finviz.com/quote.ashx?t='\n",
    "tickers = ['AMZN', 'INFY']  # Add more tickers as needed\n",
    "\n",
    "parsed_data = []\n",
    "\n",
    "for ticker in tickers:\n",
    "    url = finviz_url + ticker\n",
    "\n",
    "    req = Request(url=url, headers={'user-agent': 'my-app'})\n",
    "    response = urlopen(req)\n",
    "\n",
    "    html = BeautifulSoup(response, features='html.parser')\n",
    "    news_table = html.find(id='news-table')\n",
    "\n",
    "    for row in news_table.findAll('tr'):\n",
    "        title = row.a.text\n",
    "        date_time_data = row.td.contents\n",
    "\n",
    "        if len(date_time_data) == 1:\n",
    "            time = date_time_data[0].strip()\n",
    "            date = ''  # Set date as empty if only time is present\n",
    "        else:\n",
    "            date_time = date_time_data[0].strip()\n",
    "            date, time = date_time.split(' ')  # Split date and time\n",
    "\n",
    "        parsed_data.append([ticker, date, time, title])\n",
    "\n",
    "df1 = pd.DataFrame(parsed_data, columns=['ticker', 'date', 'time', 'title'])\n",
    "print(df1)\n"
   ]
  },
  {
   "cell_type": "code",
   "execution_count": 2,
   "id": "5bcc7b1f",
   "metadata": {},
   "outputs": [],
   "source": [
    "df1.to_csv('finviz_final.csv', index=False)"
   ]
  },
  {
   "cell_type": "code",
   "execution_count": null,
   "id": "7e7ff8b8",
   "metadata": {},
   "outputs": [],
   "source": []
  }
 ],
 "metadata": {
  "kernelspec": {
   "display_name": "Python 3 (ipykernel)",
   "language": "python",
   "name": "python3"
  },
  "language_info": {
   "codemirror_mode": {
    "name": "ipython",
    "version": 3
   },
   "file_extension": ".py",
   "mimetype": "text/x-python",
   "name": "python",
   "nbconvert_exporter": "python",
   "pygments_lexer": "ipython3",
   "version": "3.10.9"
  }
 },
 "nbformat": 4,
 "nbformat_minor": 5
}
